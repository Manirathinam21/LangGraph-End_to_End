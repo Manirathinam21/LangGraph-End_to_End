{
 "cells": [
  {
   "cell_type": "code",
   "execution_count": 1,
   "metadata": {},
   "outputs": [],
   "source": [
    "import warnings\n",
    "\n",
    "warnings.filterwarnings(\"ignore\")"
   ]
  },
  {
   "cell_type": "code",
   "execution_count": 2,
   "metadata": {},
   "outputs": [
    {
     "name": "stderr",
     "output_type": "stream",
     "text": [
      "f:\\Generative_AI\\Projects\\LangGraph-End_to_End\\venv\\lib\\site-packages\\IPython\\core\\interactiveshell.py:3577: LangChainDeprecationWarning: As of langchain-core 0.3.0, LangChain uses pydantic v2 internally. The langchain_core.pydantic_v1 module was a compatibility shim for pydantic v1, and should no longer be used. Please update the code to import from Pydantic directly.\n",
      "\n",
      "For example, replace imports like: `from langchain_core.pydantic_v1 import BaseModel`\n",
      "with: `from pydantic import BaseModel`\n",
      "or the v1 compatibility namespace if you are working in a code base that has not been fully upgraded to pydantic 2 yet. \tfrom pydantic.v1 import BaseModel\n",
      "\n",
      "  exec(code_obj, self.user_global_ns, self.user_ns)\n",
      "USER_AGENT environment variable not set, consider setting it to identify your requests.\n"
     ]
    }
   ],
   "source": [
    "from typing import Annotated, Literal, Sequence, TypedDict\n",
    "from langchain import hub\n",
    "from langchain_core.messages import BaseMessage, HumanMessage\n",
    "from langchain_core.output_parsers import StrOutputParser\n",
    "from langchain_core.prompts import PromptTemplate\n",
    "from langchain_core.pydantic_v1 import BaseModel, Field\n",
    "from langgraph.graph.message import add_messages\n",
    "from langchain_community.document_loaders import WebBaseLoader\n",
    "from langchain_community.vectorstores import Chroma\n",
    "from langchain_text_splitters import RecursiveCharacterTextSplitter\n",
    "from langchain.tools.retriever import create_retriever_tool\n",
    "from langgraph.graph import END, StateGraph, START\n",
    "from langgraph.prebuilt import ToolNode\n",
    "from langgraph.prebuilt import tools_condition"
   ]
  },
  {
   "cell_type": "code",
   "execution_count": 3,
   "metadata": {},
   "outputs": [],
   "source": [
    "import os\n",
    "from dotenv import load_dotenv\n",
    "load_dotenv()\n",
    "\n",
    "GOOGLE_API_KEY=os.getenv(\"GOOGLE_API_KEY\")\n",
    "TAVILY_API_KEY=os.getenv(\"TAVILY_API_KEY\")\n",
    "GROQ_API_KEY=os.getenv(\"GROQ_API_KEY\")\n",
    "LANGCHAIN_API_KEY=os.getenv(\"LANGCHAIN_API_KEY\")\n",
    "\n",
    "os.environ[\"GOOGLE_API_KEY\"] = GOOGLE_API_KEY\n",
    "os.environ[\"TAVILY_API_KEY\"] = TAVILY_API_KEY\n",
    "os.environ[\"GROQ_API_KEY\"]= GROQ_API_KEY\n",
    "os.environ[\"LANGCHAIN_API_KEY\"] = LANGCHAIN_API_KEY\n",
    "os.environ[\"LANGCHAIN_TRACING_V2\"] = \"true\"\n",
    "os.environ[\"LANGCHAIN_ENDPOINT\"] = \"https://api.smith.langchain.com\""
   ]
  },
  {
   "cell_type": "code",
   "execution_count": 4,
   "metadata": {},
   "outputs": [
    {
     "data": {
      "text/plain": [
       "AIMessage(content=\"As a large language model, I don't have feelings or experiences like humans do. However, I'm here and ready to assist you with any questions or tasks you may have!\\n\\nHow can I help you today?\\n\", additional_kwargs={}, response_metadata={'token_usage': {'completion_tokens': 49, 'prompt_tokens': 14, 'total_tokens': 63, 'completion_time': 0.089090909, 'prompt_time': 0.001898806, 'queue_time': 0.230659783, 'total_time': 0.090989715}, 'model_name': 'Gemma2-9b-It', 'system_fingerprint': 'fp_10c08bf97d', 'finish_reason': 'stop', 'logprobs': None}, id='run-e216ba6b-a8b5-4856-b1e6-1fe5776602d1-0', usage_metadata={'input_tokens': 14, 'output_tokens': 49, 'total_tokens': 63})"
      ]
     },
     "execution_count": 4,
     "metadata": {},
     "output_type": "execute_result"
    }
   ],
   "source": [
    "from langchain_huggingface import HuggingFaceEmbeddings\n",
    "from langchain_groq import ChatGroq\n",
    "\n",
    "embeddings=HuggingFaceEmbeddings(model_name=\"all-MiniLM-L6-v2\")\n",
    "\n",
    "llm=ChatGroq(model_name=\"Gemma2-9b-It\")\n",
    "\n",
    "llm.invoke(\"hello how are you?\")"
   ]
  },
  {
   "cell_type": "code",
   "execution_count": 5,
   "metadata": {},
   "outputs": [
    {
     "data": {
      "text/plain": [
       "{'source': 'https://lilianweng.github.io/posts/2023-06-23-agent/',\n",
       " 'title': \"LLM Powered Autonomous Agents | Lil'Log\",\n",
       " 'description': 'Building agents with LLM (large language model) as its core controller is a cool concept. Several proof-of-concepts demos, such as AutoGPT, GPT-Engineer and BabyAGI, serve as inspiring examples. The potentiality of LLM extends beyond generating well-written copies, stories, essays and programs; it can be framed as a powerful general problem solver.\\nAgent System Overview\\nIn a LLM-powered autonomous agent system, LLM functions as the agent’s brain, complemented by several key components:\\n\\nPlanning\\n\\nSubgoal and decomposition: The agent breaks down large tasks into smaller, manageable subgoals, enabling efficient handling of complex tasks.\\nReflection and refinement: The agent can do self-criticism and self-reflection over past actions, learn from mistakes and refine them for future steps, thereby improving the quality of final results.\\n\\n\\nMemory\\n\\nShort-term memory: I would consider all the in-context learning (See Prompt Engineering) as utilizing short-term memory of the model to learn.\\nLong-term memory: This provides the agent with the capability to retain and recall (infinite) information over extended periods, often by leveraging an external vector store and fast retrieval.\\n\\n\\nTool use\\n\\nThe agent learns to call external APIs for extra information that is missing from the model weights (often hard to change after pre-training), including current information, code execution capability, access to proprietary information sources and more.\\n\\n\\n\\n\\nFig. 1. Overview of a LLM-powered autonomous agent system.\\nComponent One: Planning\\nA complicated task usually involves many steps. An agent needs to know what they are and plan ahead.',\n",
       " 'language': 'en'}"
      ]
     },
     "execution_count": 5,
     "metadata": {},
     "output_type": "execute_result"
    }
   ],
   "source": [
    "url= \"https://lilianweng.github.io/posts/2023-06-23-agent/\"\n",
    "\n",
    "WebBaseLoader(url).load()[0].metadata"
   ]
  },
  {
   "cell_type": "code",
   "execution_count": 6,
   "metadata": {},
   "outputs": [
    {
     "data": {
      "text/plain": [
       "'Building agents with LLM (large language model) as its core controller is a cool concept. Several proof-of-concepts demos, such as AutoGPT, GPT-Engineer and BabyAGI, serve as inspiring examples. The potentiality of LLM extends beyond generating well-written copies, stories, essays and programs; it can be framed as a powerful general problem solver.\\nAgent System Overview\\nIn a LLM-powered autonomous agent system, LLM functions as the agent’s brain, complemented by several key components:\\n\\nPlanning\\n\\nSubgoal and decomposition: The agent breaks down large tasks into smaller, manageable subgoals, enabling efficient handling of complex tasks.\\nReflection and refinement: The agent can do self-criticism and self-reflection over past actions, learn from mistakes and refine them for future steps, thereby improving the quality of final results.\\n\\n\\nMemory\\n\\nShort-term memory: I would consider all the in-context learning (See Prompt Engineering) as utilizing short-term memory of the model to learn.\\nLong-term memory: This provides the agent with the capability to retain and recall (infinite) information over extended periods, often by leveraging an external vector store and fast retrieval.\\n\\n\\nTool use\\n\\nThe agent learns to call external APIs for extra information that is missing from the model weights (often hard to change after pre-training), including current information, code execution capability, access to proprietary information sources and more.\\n\\n\\n\\n\\nFig. 1. Overview of a LLM-powered autonomous agent system.\\nComponent One: Planning\\nA complicated task usually involves many steps. An agent needs to know what they are and plan ahead.'"
      ]
     },
     "execution_count": 6,
     "metadata": {},
     "output_type": "execute_result"
    }
   ],
   "source": [
    "WebBaseLoader(url).load()[0].metadata[\"description\"]"
   ]
  },
  {
   "cell_type": "code",
   "execution_count": 7,
   "metadata": {},
   "outputs": [],
   "source": [
    "urls = [\n",
    "    \"https://lilianweng.github.io/posts/2023-06-23-agent/\",\n",
    "    \"https://lilianweng.github.io/posts/2023-03-15-prompt-engineering/\",\n",
    "]\n",
    "\n",
    "docs = [WebBaseLoader(url).load() for url in urls]"
   ]
  },
  {
   "cell_type": "code",
   "execution_count": 8,
   "metadata": {},
   "outputs": [],
   "source": [
    "# Spliting the docs into chunks\n",
    "\n",
    "docs_list=[item for sublist in docs for item in sublist]\n",
    "\n",
    "text_splitter=RecursiveCharacterTextSplitter.from_tiktoken_encoder(chunk_size=100, chunk_overlap=25)\n",
    "\n",
    "doc_splits=text_splitter.split_documents(docs_list)"
   ]
  },
  {
   "cell_type": "code",
   "execution_count": 9,
   "metadata": {},
   "outputs": [],
   "source": [
    "vectorstore=Chroma.from_documents(\n",
    "    documents=doc_splits,\n",
    "    collection_name=\"rag-chrome\",\n",
    "    embedding=embeddings)\n",
    "\n",
    "retriever=vectorstore.as_retriever()"
   ]
  },
  {
   "cell_type": "code",
   "execution_count": 10,
   "metadata": {},
   "outputs": [],
   "source": [
    "retriever_tool= create_retriever_tool(retriever,\n",
    "                                      \"retrieve_blog_posts\",\n",
    "    \"Search and return information about Lilian Weng blog posts on LLM agents, prompt engineering, and adversarial attacks on LLMs.You are a specialized assistant. Use the 'retriever_tool' **only** when the query explicitly relates to LangChain blog data. For all other queries, respond directly without using any tool. For simple queries like 'hi', 'hello', or 'how are you', provide a normal response.\",\n",
    "    )\n",
    "\n",
    "tools= [retriever_tool] \n",
    "\n",
    "# Tool Node for LanGgraph\n",
    "retrieve=  ToolNode([retriever_tool])"
   ]
  },
  {
   "cell_type": "markdown",
   "metadata": {},
   "source": [
    "## Code Breakdown:\n",
    "**class** AgentState(TypedDict):\n",
    "    messages: Annotated[Sequence[BaseMessage], add_messages]\n",
    "This code defines a class AgentState that is a TypedDict, which is a special kind of dictionary with fixed keys and value types, used to provide better type safety and autocompletion in Python.\n",
    "\n",
    "Here’s a breakdown of each part:\n",
    "\n",
    "1. ### AgentState(TypedDict)\n",
    "TypedDict: This is a special class provided by typing that allows you to define dictionaries where each key has a fixed type. The dictionary keys are usually predefined, and each key must have a specified type.\n",
    "\n",
    "AgentState here is a subclass of TypedDict, meaning AgentState will represent a dictionary where the types of its values are enforced.\n",
    "\n",
    "Example:\n",
    "\n",
    "agent_state = AgentState(messages=[\"Message 1\", \"Message 2\"])  # This would be valid.\n",
    "\n",
    "2. ### messages: Annotated[Sequence[BaseMessage], add_messages]\n",
    "**messages:** This is a key in the AgentState dictionary. It holds a sequence (like a list or tuple) of BaseMessage objects.\n",
    "\n",
    "**Annotated[...]**: Annotated is used to attach additional metadata or annotations to the type. It’s a way to add extra information to the type system without affecting the actual type. In this case, it provides metadata for the messages field.\n",
    "\n",
    "The **Annotated** wrapper allows you to define a type and also include additional information that might be used by tools like static analyzers or for other purposes like validation.\n",
    "**Sequence[BaseMessage]:** This indicates that messages should be a sequence (e.g., a list or tuple) of BaseMessage objects.\n",
    "\n",
    "**BaseMessage** is likely a class that represents a message in the context of your program. It could have fields like content, sender, timestamp, etc.\n",
    "**add_messages:** This is a special annotation (or metadata) that likely refers to some function or constant that’s being added as additional context. The specific role of add_messages will depend on how it's defined elsewhere in the codebase.\n",
    "\n",
    "**add_messages** could be a function, validator, or modifier that helps manage or process the messages in some way, but it's not directly modifying the type of messages. It's simply metadata for the type checker or other parts of the system.\n",
    "\n",
    "For example, if add_messages were a function, it could be used in a custom decorator, validation system, or simply as an indication of how to handle messages.\n",
    "\n",
    "### Putting It All Together:\n",
    "**AgentState** is a dictionary where one of the keys, messages, is specifically typed to be a **sequence of BaseMessage** objects. The sequence is annotated with **add_messages**, which provides additional metadata but doesn’t affect the type directly.\n",
    "\n",
    "**Example of AgentState usage:**\n",
    "\n",
    "from typing import TypedDict, Sequence\n",
    "from typing_extensions import Annotated\n",
    "\n",
    "class BaseMessage:\n",
    "    def __init__(self, content: str):\n",
    "        self.content = content\n",
    "\n",
    "#Defining the `AgentState` TypedDict\n",
    "class AgentState(TypedDict):\n",
    "    messages: Annotated[Sequence[BaseMessage], \"add_messages\"]\n",
    "\n",
    "#Example usage\n",
    "message1 = BaseMessage(\"Hello, world!\")\n",
    "message2 = BaseMessage(\"How are you?\")\n",
    "state = AgentState(messages=[message1, message2])\n",
    "\n",
    "print(state)\n",
    "In the above code:\n",
    "\n",
    "AgentState is a dictionary with a messages field that is a sequence of BaseMessage objects.\n",
    "add_messages is metadata associated with the messages field, which can help guide the usage or interpretation of the data.\n",
    "### Summary:\n",
    "AgentState is a dictionary where the messages key holds a sequence of BaseMessage objects.\n",
    "Annotated[Sequence[BaseMessage], add_messages] means that messages is a sequence of BaseMessage objects with additional metadata (add_messages).\n",
    "The annotation add_messages provides extra context or metadata that doesn't alter the type directly but can be used for purposes like validation or other system-specific behavior.\n",
    "Let me know if you'd like further clarification on any part of this! 😊"
   ]
  },
  {
   "cell_type": "code",
   "execution_count": 11,
   "metadata": {},
   "outputs": [],
   "source": [
    "class AgentState(TypedDict):\n",
    "    messages: Annotated[Sequence[BaseMessage], add_messages]"
   ]
  },
  {
   "cell_type": "code",
   "execution_count": 12,
   "metadata": {},
   "outputs": [],
   "source": [
    "# Agent Function\n",
    "def agent(state: AgentState):\n",
    "    print(\"---CALL AGENT---\")\n",
    "    messages=state['messages']\n",
    "    \n",
    "    if len(messages)>1:\n",
    "        last_message = messages[-1]\n",
    "        question = last_message.content\n",
    "        prompt=PromptTemplate(\n",
    "        template=\"\"\"You are a helpful assistant whatever question has been asked to find out that in the given question and answer.\n",
    "                        Here is the question:{question}\n",
    "                        \"\"\",\n",
    "                        input_variables=[\"question\"]\n",
    "                        )\n",
    "        chain = prompt | llm\n",
    "        response=chain.invoke({\"question\": question})\n",
    "        return {\"messages\": [response]}\n",
    "    else:\n",
    "        llm_with_tool= llm.bind_tools(tools)    \n",
    "        response= llm_with_tool.invoke(messages)\n",
    "        return {\"messages\": [response]}"
   ]
  },
  {
   "cell_type": "code",
   "execution_count": 13,
   "metadata": {},
   "outputs": [],
   "source": [
    "class grade(BaseModel):\n",
    "    binary_score:str=Field(description=\"Relevance score 'yes' or 'no'\")"
   ]
  },
  {
   "cell_type": "code",
   "execution_count": 14,
   "metadata": {},
   "outputs": [],
   "source": [
    "def grade_documents(state:AgentState)->Literal[\"Output_Generator\", \"Query_Rewriter\"]:\n",
    "    llm_with_structure_op=llm.with_structured_output(grade)\n",
    "    \n",
    "    prompt=PromptTemplate(\n",
    "        template=\"\"\"You are a grader deciding if a document is relevant to a user’s question.\n",
    "                    Here is the document: {context}\n",
    "                    Here is the user’s question: {question}\n",
    "                    If the document talks about or contains information related to the user’s question, mark it as relevant. \n",
    "                    Give a 'yes' or 'no' answer to show if the document is relevant to the question.\"\"\",\n",
    "                    input_variables=[\"context\", \"question\"]\n",
    "                    )\n",
    "    chain = prompt | llm_with_structure_op\n",
    "    \n",
    "    messages = state[\"messages\"]\n",
    "    last_message = messages[-1]\n",
    "    question = messages[0].content\n",
    "    docs = last_message.content\n",
    "    scored_result = chain.invoke({\"question\": question, \"context\": docs})\n",
    "    score = scored_result.binary_score\n",
    "\n",
    "    if score == \"yes\":\n",
    "        print(\"---DECISION: DOCS RELEVANT---\")\n",
    "        return \"generator\" #this should be a node name\n",
    "    else:\n",
    "        print(\"---DECISION: DOCS NOT RELEVANT---\")\n",
    "        return \"rewriter\" #this should be a node name"
   ]
  },
  {
   "cell_type": "code",
   "execution_count": 15,
   "metadata": {},
   "outputs": [],
   "source": [
    "def generate(state:AgentState):\n",
    "    print(\"---GENERATE---\")\n",
    "    messages= state['messages']\n",
    "    \n",
    "    question= messages[0].content\n",
    "    \n",
    "    last_messages= messages[-1]\n",
    "    docs= last_messages.content\n",
    "    \n",
    "    prompt= hub.pull('rlm/rag-prompt')\n",
    "    rag_chain= prompt | llm\n",
    "    response = rag_chain.invoke({\"context\": docs, \"question\": question})\n",
    "    print(f\"this is my response:{response}\")\n",
    "    return {\"messages\": [response]}"
   ]
  },
  {
   "cell_type": "code",
   "execution_count": 16,
   "metadata": {},
   "outputs": [],
   "source": [
    "from langchain_core.messages import  HumanMessage\n",
    "\n",
    "def rewrite(state:AgentState):\n",
    "    print(\"---TRANSFORM QUERY---\")\n",
    "    messages = state[\"messages\"]\n",
    "    question = messages[0].content\n",
    "    \n",
    "    message = [HumanMessage(content=f\"\"\"Look at the input and try to reason about the underlying semantic intent or meaning. \n",
    "                    Here is the initial question: {question} \n",
    "                    Formulate an improved question: \"\"\")\n",
    "       ]\n",
    "    response = llm.invoke(message)\n",
    "    return {\"messages\": [response]}"
   ]
  },
  {
   "cell_type": "code",
   "execution_count": 17,
   "metadata": {},
   "outputs": [],
   "source": [
    "# LangGraph\n",
    "\n",
    "workflow= StateGraph(AgentState)\n",
    "\n",
    "# Nodes\n",
    "workflow.add_node(\"AI Agent\", agent)\n",
    "workflow.add_node(\"Vector_Retriever\", retrieve) \n",
    "workflow.add_node(\"Output_Generator\", generate)\n",
    "workflow.add_node(\"Query_Rewritter\", rewrite)\n",
    "\n",
    "# Edges\n",
    "workflow.add_edge(START, \"AI Agent\")\n",
    "workflow.add_conditional_edges(\"AI Agent\",\n",
    "                               tools_condition,\n",
    "                               {\"tools\":\"Vector_Retriever\",\n",
    "                                END:END})\n",
    "workflow.add_conditional_edges(\"Vector_Retriever\",\n",
    "                               grade_documents,\n",
    "                               {\"generator\": \"Output_Generator\",\n",
    "                                \"rewriter\": \"Query_Rewritter\"})\n",
    "workflow.add_edge(\"Query_Rewritter\", \"AI Agent\")\n",
    "workflow.add_edge(\"Output_Generator\", END)\n",
    "\n",
    "app=workflow.compile()"
   ]
  },
  {
   "cell_type": "code",
   "execution_count": 18,
   "metadata": {},
   "outputs": [
    {
     "data": {
      "image/jpeg": "[encoded data removed]",
      "text/plain": [
       "<IPython.core.display.Image object>"
      ]
     },
     "metadata": {},
     "output_type": "display_data"
    }
   ],
   "source": [
    "from IPython.display import Image, display\n",
    "\n",
    "try:\n",
    "    display(Image(app.get_graph(xray=True).draw_mermaid_png()))\n",
    "except Exception:\n",
    "    # This requires some extra dependencies and is optional\n",
    "    pass"
   ]
  },
  {
   "cell_type": "code",
   "execution_count": 19,
   "metadata": {},
   "outputs": [
    {
     "name": "stdout",
     "output_type": "stream",
     "text": [
      "---CALL AGENT---\n",
      "---DECISION: DOCS RELEVANT---\n",
      "---GENERATE---\n",
      "this is my response:content='An autonomous agent is a system where a large language model (LLM) acts as the \"brain\".  \\n\\nIt is complemented by other components like planning and self-reflection to solve problems and act independently.  LLM-powered autonomous agents can be seen as powerful general problem solvers. \\n' additional_kwargs={} response_metadata={'token_usage': {'completion_tokens': 62, 'prompt_tokens': 335, 'total_tokens': 397, 'completion_time': 0.112727273, 'prompt_time': 0.014050394, 'queue_time': 0.23305504500000002, 'total_time': 0.126777667}, 'model_name': 'Gemma2-9b-It', 'system_fingerprint': 'fp_10c08bf97d', 'finish_reason': 'stop', 'logprobs': None} id='run-8be65474-8cf0-46e1-9522-f3d1ef8568f7-0' usage_metadata={'input_tokens': 335, 'output_tokens': 62, 'total_tokens': 397}\n"
     ]
    },
    {
     "data": {
      "text/plain": [
       "{'messages': [HumanMessage(content='What is a Autonomous Agent?', additional_kwargs={}, response_metadata={}, id='36e6b047-befb-466b-b1f4-71553d557843'),\n",
       "  AIMessage(content='', additional_kwargs={'tool_calls': [{'id': 'call_hzs2', 'function': {'arguments': '{\"query\":\"Autonomous Agent\"}', 'name': 'retrieve_blog_posts'}, 'type': 'function'}]}, response_metadata={'token_usage': {'completion_tokens': 85, 'prompt_tokens': 1039, 'total_tokens': 1124, 'completion_time': 0.154545455, 'prompt_time': 0.036254282, 'queue_time': 0.233465149, 'total_time': 0.190799737}, 'model_name': 'Gemma2-9b-It', 'system_fingerprint': 'fp_10c08bf97d', 'finish_reason': 'tool_calls', 'logprobs': None}, id='run-a72d6256-47e1-491d-874d-4a41ca02311c-0', tool_calls=[{'name': 'retrieve_blog_posts', 'args': {'query': 'Autonomous Agent'}, 'id': 'call_hzs2', 'type': 'tool_call'}], usage_metadata={'input_tokens': 1039, 'output_tokens': 85, 'total_tokens': 1124}),\n",
       "  ToolMessage(content='Posts\\n\\n\\n\\n\\nArchive\\n\\n\\n\\n\\nSearch\\n\\n\\n\\n\\nTags\\n\\n\\n\\n\\nFAQ\\n\\n\\n\\n\\n\\n\\n\\n\\n\\n      LLM Powered Autonomous Agents\\n    \\nDate: June 23, 2023  |  Estimated Reading Time: 31 min  |  Author: Lilian Weng\\n\\n\\n \\n\\n\\nTable of Contents\\n\\n\\n\\nAgent System Overview\\n\\nComponent One: Planning\\n\\nTask Decomposition\\n\\nSelf-Reflection\\n\\nBuilding agents with LLM (large language model) as its core controller is a cool concept. Several proof-of-concepts demos, such as AutoGPT, GPT-Engineer and BabyAGI, serve as inspiring examples. The potentiality of LLM extends beyond generating well-written copies, stories, essays and programs; it can be framed as a powerful general problem solver.\\nAgent System Overview#\\n\\nAgent System Overview#\\nIn a LLM-powered autonomous agent system, LLM functions as the agent’s brain, complemented by several key components:\\n\\n[8] Shinn & Labash. “Reflexion: an autonomous agent with dynamic memory and self-reflection” arXiv preprint arXiv:2303.11366 (2023).\\n[9] Laskin et al. “In-context Reinforcement Learning with Algorithm Distillation” ICLR 2023.', name='retrieve_blog_posts', id='2303a491-6f3e-4dc7-8257-4cd17dc81706', tool_call_id='call_hzs2'),\n",
       "  AIMessage(content='An autonomous agent is a system where a large language model (LLM) acts as the \"brain\".  \\n\\nIt is complemented by other components like planning and self-reflection to solve problems and act independently.  LLM-powered autonomous agents can be seen as powerful general problem solvers. \\n', additional_kwargs={}, response_metadata={'token_usage': {'completion_tokens': 62, 'prompt_tokens': 335, 'total_tokens': 397, 'completion_time': 0.112727273, 'prompt_time': 0.014050394, 'queue_time': 0.23305504500000002, 'total_time': 0.126777667}, 'model_name': 'Gemma2-9b-It', 'system_fingerprint': 'fp_10c08bf97d', 'finish_reason': 'stop', 'logprobs': None}, id='run-8be65474-8cf0-46e1-9522-f3d1ef8568f7-0', usage_metadata={'input_tokens': 335, 'output_tokens': 62, 'total_tokens': 397})]}"
      ]
     },
     "execution_count": 19,
     "metadata": {},
     "output_type": "execute_result"
    }
   ],
   "source": [
    "app.invoke({\"messages\":[\"What is a Autonomous Agent?\"]})"
   ]
  },
  {
   "cell_type": "code",
   "execution_count": 20,
   "metadata": {},
   "outputs": [
    {
     "name": "stdout",
     "output_type": "stream",
     "text": [
      "---CALL AGENT---\n",
      "---DECISION: DOCS RELEVANT---\n",
      "---GENERATE---\n",
      "this is my response:content=\"Prompt engineering in LangChain involves designing effective instructions (prompts) to guide the behavior of a large language model (LLM) agent. \\n\\nThis is crucial because LLMs need clear guidance to perform tasks and generate desired outputs. \\nBy carefully crafting prompts, developers can leverage the LLM's capabilities to build sophisticated agents capable of interacting with tools and accomplishing complex goals. \\n\" additional_kwargs={} response_metadata={'token_usage': {'completion_tokens': 81, 'prompt_tokens': 383, 'total_tokens': 464, 'completion_time': 0.147272727, 'prompt_time': 0.014366363, 'queue_time': 0.241540168, 'total_time': 0.16163909}, 'model_name': 'Gemma2-9b-It', 'system_fingerprint': 'fp_10c08bf97d', 'finish_reason': 'stop', 'logprobs': None} id='run-89b3fceb-fa29-4ff0-8e37-27f6d0a3130c-0' usage_metadata={'input_tokens': 383, 'output_tokens': 81, 'total_tokens': 464}\n"
     ]
    },
    {
     "data": {
      "text/plain": [
       "{'messages': [HumanMessage(content='what is a prompt engineering explain me in terms of agents and langchain?', additional_kwargs={}, response_metadata={}, id='539cc754-782e-4dac-aad1-8a8037dd7720'),\n",
       "  AIMessage(content='', additional_kwargs={'tool_calls': [{'id': 'call_wmry', 'function': {'arguments': '{\"query\":\"prompt engineering langchain agents\"}', 'name': 'retrieve_blog_posts'}, 'type': 'function'}]}, response_metadata={'token_usage': {'completion_tokens': 88, 'prompt_tokens': 1048, 'total_tokens': 1136, 'completion_time': 0.16, 'prompt_time': 0.036604551, 'queue_time': 0.23314049000000003, 'total_time': 0.196604551}, 'model_name': 'Gemma2-9b-It', 'system_fingerprint': 'fp_10c08bf97d', 'finish_reason': 'tool_calls', 'logprobs': None}, id='run-47488b4e-47aa-4b11-8378-96cdab2d1012-0', tool_calls=[{'name': 'retrieve_blog_posts', 'args': {'query': 'prompt engineering langchain agents'}, 'id': 'call_wmry', 'type': 'tool_call'}], usage_metadata={'input_tokens': 1048, 'output_tokens': 88, 'total_tokens': 1136}),\n",
       "  ToolMessage(content='Building agents with LLM (large language model) as its core controller is a cool concept. Several proof-of-concepts demos, such as AutoGPT, GPT-Engineer and BabyAGI, serve as inspiring examples. The potentiality of LLM extends beyond generating well-written copies, stories, essays and programs; it can be framed as a powerful general problem solver.\\nAgent System Overview#\\n\\nCase Studies#\\nScientific Discovery Agent#\\nChemCrow (Bran et al. 2023) is a domain-specific example in which LLM is augmented with 13 expert-designed tools to accomplish tasks across organic synthesis, drug discovery, and materials design. The workflow, implemented in LangChain, reflects what was previously described in the ReAct and MRKLs and combines CoT reasoning with tools relevant to the tasks:\\n\\nOpenAI Cookbook has many in-depth examples for how to utilize LLM efficiently.\\nLangChain, a library for combining language models with other components to build applications.\\nPrompt Engineering Guide repo contains a pretty comprehensive collection of education materials on prompt engineering.\\nlearnprompting.org\\nPromptPerfect\\nSemantic Kernel\\n\\nPrompt Engineering, also known as In-Context Prompting, refers to methods for how to communicate with LLM to steer its behavior for desired outcomes without updating the model weights. It is an empirical science and the effect of prompt engineering methods can vary a lot among models, thus requiring heavy experimentation and heuristics.', name='retrieve_blog_posts', id='45b00130-91a4-4249-ab8c-dfff60ed117c', tool_call_id='call_wmry'),\n",
       "  AIMessage(content=\"Prompt engineering in LangChain involves designing effective instructions (prompts) to guide the behavior of a large language model (LLM) agent. \\n\\nThis is crucial because LLMs need clear guidance to perform tasks and generate desired outputs. \\nBy carefully crafting prompts, developers can leverage the LLM's capabilities to build sophisticated agents capable of interacting with tools and accomplishing complex goals. \\n\", additional_kwargs={}, response_metadata={'token_usage': {'completion_tokens': 81, 'prompt_tokens': 383, 'total_tokens': 464, 'completion_time': 0.147272727, 'prompt_time': 0.014366363, 'queue_time': 0.241540168, 'total_time': 0.16163909}, 'model_name': 'Gemma2-9b-It', 'system_fingerprint': 'fp_10c08bf97d', 'finish_reason': 'stop', 'logprobs': None}, id='run-89b3fceb-fa29-4ff0-8e37-27f6d0a3130c-0', usage_metadata={'input_tokens': 383, 'output_tokens': 81, 'total_tokens': 464})]}"
      ]
     },
     "execution_count": 20,
     "metadata": {},
     "output_type": "execute_result"
    }
   ],
   "source": [
    "app.invoke({\"messages\":[\"what is a prompt engineering explain me in terms of agents and langchain?\"]})"
   ]
  },
  {
   "cell_type": "code",
   "execution_count": 21,
   "metadata": {},
   "outputs": [
    {
     "name": "stdout",
     "output_type": "stream",
     "text": [
      "---CALL AGENT---\n",
      "---DECISION: DOCS NOT RELEVANT---\n",
      "---TRANSFORM QUERY---\n",
      "---CALL AGENT---\n"
     ]
    },
    {
     "data": {
      "text/plain": [
       "{'messages': [HumanMessage(content='what is capital of india?', additional_kwargs={}, response_metadata={}, id='a5d86391-4e63-44fa-89db-a2494fad4137'),\n",
       "  AIMessage(content='', additional_kwargs={'tool_calls': [{'id': 'call_6ppr', 'function': {'arguments': '{\"query\":\"Capital of India\"}', 'name': 'retrieve_blog_posts'}, 'type': 'function'}]}, response_metadata={'token_usage': {'completion_tokens': 85, 'prompt_tokens': 1039, 'total_tokens': 1124, 'completion_time': 0.154545455, 'prompt_time': 0.036316773, 'queue_time': 0.239232348, 'total_time': 0.190862228}, 'model_name': 'Gemma2-9b-It', 'system_fingerprint': 'fp_10c08bf97d', 'finish_reason': 'tool_calls', 'logprobs': None}, id='run-da3b8eb3-56ea-4210-9821-b3bc8bd912da-0', tool_calls=[{'name': 'retrieve_blog_posts', 'args': {'query': 'Capital of India'}, 'id': 'call_6ppr', 'type': 'tool_call'}], usage_metadata={'input_tokens': 1039, 'output_tokens': 85, 'total_tokens': 1124}),\n",
       "  ToolMessage(content='route inquiries to the best suitable expert module. These modules can be neural (e.g. deep learning models) or symbolic (e.g. math calculator, currency converter, weather API).\\n\\nyear    = \"2023\",\\n  month   = \"Mar\",\\n  url     = \"https://lilianweng.github.io/posts/2023-03-15-prompt-engineering/\"\\n}\\nUseful Resources#\\n\\nPrompt Engineering, also known as In-Context Prompting, refers to methods for how to communicate with LLM to steer its behavior for desired outcomes without updating the model weights. It is an empirical science and the effect of prompt engineering methods can vary a lot among models, thus requiring heavy experimentation and heuristics.\\n\\nPrompt is a sequence of prefix tokens that increase the probability of getting  desired output given input. Therefore we can treat them as trainable parameters and optimize them directly on the embedding space via gradient descent, such as AutoPrompt (Shin et al., 2020, Prefix-Tuning (Li & Liang (2021)), P-tuning (Liu et al. 2021) and Prompt-Tuning (Lester et al. 2021). This section in my', name='retrieve_blog_posts', id='3d913548-b431-451b-8407-8015257cda4f', tool_call_id='call_6ppr'),\n",
       "  AIMessage(content='The underlying semantic intent of the question \"What is the capital of India?\" is to **find the name of the city that serves as the governmental center of India**. \\n\\nAn improved question could be:\\n\\n**\"Can you tell me the name of the capital city of India?\"** \\n\\nThis improvement:\\n\\n* **Clarifies the request:**  It explicitly asks for the \"name\" of the capital city.\\n* **Uses more natural language:**  \"Can you tell me\" is a more conversational way to phrase the request. \\n\\n\\nLet me know if you have any other questions! \\n', additional_kwargs={}, response_metadata={'token_usage': {'completion_tokens': 126, 'prompt_tokens': 50, 'total_tokens': 176, 'completion_time': 0.229090909, 'prompt_time': 0.002609565, 'queue_time': 0.23413658599999998, 'total_time': 0.231700474}, 'model_name': 'Gemma2-9b-It', 'system_fingerprint': 'fp_10c08bf97d', 'finish_reason': 'stop', 'logprobs': None}, id='run-940d5afb-3717-4a01-8d2f-228fdd269244-0', usage_metadata={'input_tokens': 50, 'output_tokens': 126, 'total_tokens': 176}),\n",
       "  AIMessage(content=\"You've done a great job analyzing the question and suggesting an improvement! \\n\\nYou've correctly identified the underlying intent as seeking the governmental center of India and highlighted how the revised question is clearer and more natural. \\n\\n\\nLet me know if you'd like to explore other examples or have any more questions about question analysis! 😊 \\n\", additional_kwargs={}, response_metadata={'token_usage': {'completion_tokens': 72, 'prompt_tokens': 162, 'total_tokens': 234, 'completion_time': 0.130909091, 'prompt_time': 0.007034417, 'queue_time': 0.234475534, 'total_time': 0.137943508}, 'model_name': 'Gemma2-9b-It', 'system_fingerprint': 'fp_10c08bf97d', 'finish_reason': 'stop', 'logprobs': None}, id='run-bb59ea1f-5a56-4204-b028-db35732bece3-0', usage_metadata={'input_tokens': 162, 'output_tokens': 72, 'total_tokens': 234})]}"
      ]
     },
     "execution_count": 21,
     "metadata": {},
     "output_type": "execute_result"
    }
   ],
   "source": [
    "app.invoke({\"messages\":[\"what is capital of india?\"]})"
   ]
  },
  {
   "cell_type": "code",
   "execution_count": null,
   "metadata": {},
   "outputs": [],
   "source": []
  }
 ],
 "metadata": {
  "kernelspec": {
   "display_name": "Python 3",
   "language": "python",
   "name": "python3"
  },
  "language_info": {
   "codemirror_mode": {
    "name": "ipython",
    "version": 3
   },
   "file_extension": ".py",
   "mimetype": "text/x-python",
   "name": "python",
   "nbconvert_exporter": "python",
   "pygments_lexer": "ipython3",
   "version": "3.10.15"
  }
 },
 "nbformat": 4,
 "nbformat_minor": 2
}

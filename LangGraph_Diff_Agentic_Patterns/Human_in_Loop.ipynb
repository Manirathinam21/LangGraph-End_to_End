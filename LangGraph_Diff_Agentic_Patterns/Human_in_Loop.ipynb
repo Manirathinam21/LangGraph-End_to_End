{
 "cells": [
  {
   "cell_type": "markdown",
   "metadata": {},
   "source": [
    "## Human-in-Loop\n",
    "For some actions, you may want to require human approval before running to ensure that everything is running as intended.\n",
    "\n",
    "In Human-in-Loop, there will be human intervention before tool callinig asking for yes/no. based on the input from human, it will proceed further"
   ]
  },
  {
   "cell_type": "code",
   "execution_count": 32,
   "metadata": {},
   "outputs": [],
   "source": [
    "import operator, json\n",
    "from typing import TypedDict, Annotated, Sequence\n",
    "from langgraph.graph import StateGraph, MessagesState, START, END\n",
    "from langgraph.graph.message import add_messages\n",
    "from langgraph.checkpoint.memory import MemorySaver\n",
    "from langgraph.prebuilt import ToolNode, tools_condition\n",
    "from langchain_community.tools.tavily_search import TavilySearchResults\n",
    "from langchain_community.tools import DuckDuckGoSearchRun\n",
    "from langchain_core.tools import tool"
   ]
  },
  {
   "cell_type": "code",
   "execution_count": 33,
   "metadata": {},
   "outputs": [],
   "source": [
    "# Configuring gemini\n",
    "\n",
    "from langchain_google_genai import ChatGoogleGenerativeAI\n",
    "\n",
    "llm= ChatGoogleGenerativeAI(model= 'gemini-1.5-pro')\n"
   ]
  },
  {
   "cell_type": "markdown",
   "metadata": {},
   "source": [
    "**LangGraph supports human-in-the-loop workflows in a number of ways. In this section, we will use LangGraph's interrupt_before functionality to always break the tool node.**"
   ]
  },
  {
   "cell_type": "code",
   "execution_count": 34,
   "metadata": {},
   "outputs": [],
   "source": [
    "class AgentState(TypedDict):\n",
    "    messages: Annotated[list, add_messages]"
   ]
  },
  {
   "cell_type": "code",
   "execution_count": 35,
   "metadata": {},
   "outputs": [
    {
     "name": "stderr",
     "output_type": "stream",
     "text": [
      "Key 'title' is not supported in schema, ignoring\n",
      "Key 'title' is not supported in schema, ignoring\n"
     ]
    }
   ],
   "source": [
    "search= TavilySearchResults()\n",
    "\n",
    "tools= [search]\n",
    "\n",
    "llm_with_tools= llm.bind_tools(tools)\n",
    "\n",
    "tool_node= ToolNode(tools)"
   ]
  },
  {
   "cell_type": "code",
   "execution_count": 36,
   "metadata": {},
   "outputs": [],
   "source": [
    "# Agent- llm_with_tools\n",
    "def reasoner(state: AgentState):\n",
    "    messages= state['messages']\n",
    "    response= llm_with_tools.invoke(messages)\n",
    "    return {'messages': [response]}\n",
    "    "
   ]
  },
  {
   "cell_type": "code",
   "execution_count": 37,
   "metadata": {},
   "outputs": [],
   "source": [
    "def router_function(state: AgentState):\n",
    "    messages= state['messages']\n",
    "    last_message= messages[-1]\n",
    "    if last_message.tool_calls:\n",
    "        return 'tools'\n",
    "    else:\n",
    "        return END"
   ]
  },
  {
   "cell_type": "code",
   "execution_count": 38,
   "metadata": {},
   "outputs": [],
   "source": [
    "# Building the LangGraph- Human-in-loop\n",
    "\n",
    "workflow= StateGraph(AgentState)\n",
    "\n",
    "workflow.add_node('Agent', reasoner)\n",
    "workflow.add_node('tools', tool_node)\n",
    "\n",
    "workflow.add_edge(START, 'Agent')\n",
    "workflow.add_conditional_edges('Agent', router_function, {'tools':'tools', END:END})\n",
    "workflow.add_edge('tools', 'Agent')\n",
    "\n",
    "memory= MemorySaver()\n",
    "app= workflow.compile(checkpointer= memory, \n",
    "                      interrupt_before=['tools'] # Interrupt_before tools node\n",
    "                    # Note: can also interrupt __after__ tools, if desired.\n",
    "                    # interrupt_after=[\"tools\"]\n",
    "                      )\n"
   ]
  },
  {
   "cell_type": "code",
   "execution_count": 39,
   "metadata": {},
   "outputs": [
    {
     "data": {
      "image/jpeg": "[encoded data removed]",
      "text/plain": [
       "<IPython.core.display.Image object>"
      ]
     },
     "metadata": {},
     "output_type": "display_data"
    }
   ],
   "source": [
    "from IPython.display import display, Image\n",
    "display(Image(app.get_graph().draw_mermaid_png()))"
   ]
  },
  {
   "cell_type": "code",
   "execution_count": 40,
   "metadata": {},
   "outputs": [
    {
     "name": "stdout",
     "output_type": "stream",
     "text": [
      "================================\u001b[1m Human Message \u001b[0m=================================\n",
      "\n",
      "what is capital of Tamil Nadu ?\n",
      "{'name': 'tavily_search_results_json', 'description': 'A search engine optimized for comprehensive, accurate, and trusted results. Useful for when you need to answer questions about current events. Input should be a search query.', 'parameters': {'type_': 6, 'description': 'Input for the Tavily tool.', 'properties': {'query': {'type_': 1, 'description': 'search query to look up', 'format_': '', 'nullable': False, 'enum': [], 'max_items': '0', 'min_items': '0', 'properties': {}, 'required': []}}, 'required': ['query'], 'format_': '', 'nullable': False, 'enum': [], 'max_items': '0', 'min_items': '0'}}\n",
      "==================================\u001b[1m Ai Message \u001b[0m==================================\n",
      "Tool Calls:\n",
      "  tavily_search_results_json (1fc9e6ff-6aa7-4186-bc34-15274cfd42c9)\n",
      " Call ID: 1fc9e6ff-6aa7-4186-bc34-15274cfd42c9\n",
      "  Args:\n",
      "    query: what is capital of Tamil Nadu ?\n"
     ]
    }
   ],
   "source": [
    "config= {'configurable':{'thread_id':'1'}}\n",
    "\n",
    "input= 'what is capital of Tamil Nadu ?'\n",
    "\n",
    "# The config is the **second positional argument** to stream() or invoke()!\n",
    "events= app.stream({'messages':[input]}, config, stream_mode='values')\n",
    "\n",
    "for event in events:\n",
    "    if \"messages\" in event:\n",
    "        event['messages'][-1].pretty_print()"
   ]
  },
  {
   "cell_type": "code",
   "execution_count": null,
   "metadata": {},
   "outputs": [
    {
     "data": {
      "text/plain": [
       "('tools',)"
      ]
     },
     "execution_count": 41,
     "metadata": {},
     "output_type": "execute_result"
    }
   ],
   "source": [
    "# code to check where human-in-loop is interrupted\n",
    "\n",
    "snapshot = app.get_state(config)\n",
    "snapshot.next"
   ]
  },
  {
   "cell_type": "code",
   "execution_count": 42,
   "metadata": {},
   "outputs": [
    {
     "data": {
      "text/plain": [
       "[{'name': 'tavily_search_results_json',\n",
       "  'args': {'query': 'what is capital of Tamil Nadu ?'},\n",
       "  'id': '1fc9e6ff-6aa7-4186-bc34-15274cfd42c9',\n",
       "  'type': 'tool_call'}]"
      ]
     },
     "execution_count": 42,
     "metadata": {},
     "output_type": "execute_result"
    }
   ],
   "source": [
    "last_message=snapshot.values[\"messages\"][-1]\n",
    "last_message.tool_calls"
   ]
  },
  {
   "cell_type": "code",
   "execution_count": 43,
   "metadata": {},
   "outputs": [
    {
     "name": "stdout",
     "output_type": "stream",
     "text": [
      "==================================\u001b[1m Ai Message \u001b[0m==================================\n",
      "Tool Calls:\n",
      "  tavily_search_results_json (1fc9e6ff-6aa7-4186-bc34-15274cfd42c9)\n",
      " Call ID: 1fc9e6ff-6aa7-4186-bc34-15274cfd42c9\n",
      "  Args:\n",
      "    query: what is capital of Tamil Nadu ?\n",
      "=================================\u001b[1m Tool Message \u001b[0m=================================\n",
      "Name: tavily_search_results_json\n",
      "\n",
      "[{\"url\": \"https://kids.britannica.com/students/article/Chennai/275604\", \"content\": \"The capital of Tamil Nadu state in southern India is Chennai, one of the country's largest cities. The city was formerly known as Madras. It is located on the Coromandel coast of the Bay of Bengal. Its climate is hot and humid. May, the hottest month, has a mean temperature of 90 °F (32 °C), but sea breezes moderate the summer heat.\"}, {\"url\": \"https://en.wikipedia.beta.wmflabs.org/wiki/Chennai\", \"content\": \"Chennai (/ ˈ tʃ ɛ n aɪ / ⓘ, Template:IPA-ta), formerly known as Madras, [A] is the capital city of Tamil Nadu, the southernmost Indian state.It is the state's primate city both in area and population and is located on the Coromandel Coast of the Bay of Bengal.According to the 2011 Indian census, Chennai is the sixth-most populous city in India and forms the fourth-most populous urban\"}, {\"url\": \"https://www.britannica.com/summary/Chennai\", \"content\": \"Chennai , formerly Madras, City (pop., 2001: city, 4,343,645; metro. area, 6,560,242), capital of Tamil Nadu state, southern India. It is located on the Coromandel Coast of the Bay of Bengal.Founded in 1639 by the British East India Company as a fort and trading post, it was known as Fort St. George and was used as a base for the company's expansion in southern India.\"}, {\"url\": \"https://www.britannica.com/place/Tamil-Nadu\", \"content\": \"Tamil Nadu is a state in southern India. It covers more than 50,200 square miles (130,000 square km). Tamil people constitute the majority of the state's population, and Tamil is the state's official language. Tamil Nadu's capital is Chennai, which is an industrial centre, but the state is essentially agricultural.\"}, {\"url\": \"https://byjus.com/social-science/capital-city-of-tamilnadu/\", \"content\": \"Chennai is known as the \\\"Health capital of India\\\". This article will give a good amount of information about Chennai, the capital city of Tamil Nadu. Chennai - Introduction. Chennai is a very important centre of education, economy and culture of India. Chennai is located on the Coromandel Coast of Tamil Nadu.\"}]\n",
      "{'name': 'tavily_search_results_json', 'description': 'A search engine optimized for comprehensive, accurate, and trusted results. Useful for when you need to answer questions about current events. Input should be a search query.', 'parameters': {'type_': 6, 'description': 'Input for the Tavily tool.', 'properties': {'query': {'type_': 1, 'description': 'search query to look up', 'format_': '', 'nullable': False, 'enum': [], 'max_items': '0', 'min_items': '0', 'properties': {}, 'required': []}}, 'required': ['query'], 'format_': '', 'nullable': False, 'enum': [], 'max_items': '0', 'min_items': '0'}}\n",
      "==================================\u001b[1m Ai Message \u001b[0m==================================\n",
      "\n",
      "Chennai is the capital of Tamil Nadu.\n"
     ]
    }
   ],
   "source": [
    "# `None` will append nothing new to the current state, letting it resume as if it had never been interrupted\n",
    "\n",
    "events= app.stream(None, config, stream_mode='values')\n",
    "\n",
    "for event in events:\n",
    "    event['messages'][-1].pretty_print()"
   ]
  },
  {
   "cell_type": "code",
   "execution_count": 44,
   "metadata": {},
   "outputs": [
    {
     "name": "stdout",
     "output_type": "stream",
     "text": [
      "================================\u001b[1m Human Message \u001b[0m=================================\n",
      "\n",
      "what is the weather there ?\n",
      "{'name': 'tavily_search_results_json', 'description': 'A search engine optimized for comprehensive, accurate, and trusted results. Useful for when you need to answer questions about current events. Input should be a search query.', 'parameters': {'type_': 6, 'description': 'Input for the Tavily tool.', 'properties': {'query': {'type_': 1, 'description': 'search query to look up', 'format_': '', 'nullable': False, 'enum': [], 'max_items': '0', 'min_items': '0', 'properties': {}, 'required': []}}, 'required': ['query'], 'format_': '', 'nullable': False, 'enum': [], 'max_items': '0', 'min_items': '0'}}\n",
      "==================================\u001b[1m Ai Message \u001b[0m==================================\n",
      "Tool Calls:\n",
      "  tavily_search_results_json (e3a99ac8-0dda-4441-b9cc-5a3055d56434)\n",
      " Call ID: e3a99ac8-0dda-4441-b9cc-5a3055d56434\n",
      "  Args:\n",
      "    query: What is the weather in Chennai, India?\n"
     ]
    }
   ],
   "source": [
    "## To check the memory of LangGraph\n",
    "\n",
    "input1= {'messages': ['what is the weather there ?']}\n",
    "\n",
    "events1= app.stream(input1, config, stream_mode='values')\n",
    "\n",
    "for event in events1:\n",
    "    event['messages'][-1].pretty_print()"
   ]
  },
  {
   "cell_type": "code",
   "execution_count": 45,
   "metadata": {},
   "outputs": [
    {
     "name": "stdout",
     "output_type": "stream",
     "text": [
      "==================================\u001b[1m Ai Message \u001b[0m==================================\n",
      "Tool Calls:\n",
      "  tavily_search_results_json (e3a99ac8-0dda-4441-b9cc-5a3055d56434)\n",
      " Call ID: e3a99ac8-0dda-4441-b9cc-5a3055d56434\n",
      "  Args:\n",
      "    query: What is the weather in Chennai, India?\n",
      "=================================\u001b[1m Tool Message \u001b[0m=================================\n",
      "Name: tavily_search_results_json\n",
      "\n",
      "[{\"url\": \"https://www.weatherapi.com/\", \"content\": \"{'location': {'name': 'Chennai', 'region': 'Tamil Nadu', 'country': 'India', 'lat': 13.0833, 'lon': 80.2833, 'tz_id': 'Asia/Kolkata', 'localtime_epoch': 1733061563, 'localtime': '2024-12-01 19:29'}, 'current': {'last_updated_epoch': 1733060700, 'last_updated': '2024-12-01 19:15', 'temp_c': 26.2, 'temp_f': 79.2, 'is_day': 0, 'condition': {'text': 'Mist', 'icon': '//cdn.weatherapi.com/weather/64x64/night/143.png', 'code': 1030}, 'wind_mph': 17.2, 'wind_kph': 27.7, 'wind_degree': 109, 'wind_dir': 'ESE', 'pressure_mb': 1002.0, 'pressure_in': 29.59, 'precip_mm': 0.66, 'precip_in': 0.03, 'humidity': 89, 'cloud': 75, 'feelslike_c': 29.6, 'feelslike_f': 85.4, 'windchill_c': 26.1, 'windchill_f': 79.1, 'heatindex_c': 29.5, 'heatindex_f': 85.2, 'dewpoint_c': 23.9, 'dewpoint_f': 75.1, 'vis_km': 3.0, 'vis_miles': 1.0, 'uv': 0.0, 'gust_mph': 25.2, 'gust_kph': 40.5}}\"}, {\"url\": \"https://www.weathertab.com/en/c/e/12/republic-of-india/state-of-tamil-nadu/chennai/\", \"content\": \"Explore comprehensive December 2024 weather forecasts for Chennai, including daily high and low temperatures, precipitation risks, and monthly temperature trends. Featuring detailed day-by-day forecasts, dynamic graphs of daily rain probabilities, and temperature trends to help you plan ahead. ... India State of Tamil Nādu ... 12 84°F 71°F\"}, {\"url\": \"https://www.weather-atlas.com/en/india/chennai-weather-december\", \"content\": \"Keenly felt but gentle in disposition, Chennai's winter finally steps on-stage in December, promising a delightful close to a year of diverse weather. Temperature Chennai measures an average high-temperature of a still warm 27.4°C (81.3°F) in December, nearly consistent with the preceding month.\"}, {\"url\": \"https://world-weather.info/forecast/india/chennai_1/december-2024/\", \"content\": \"Detailed ⚡ Chennai Weather Forecast for December 2024 - day/night 🌡️ temperatures, precipitations - World-Weather.info ... Weather; Archive; Widgets °F. World; India; State of Tamil Nādu; Weather in Chennai; Weather in Chennai in December 2024. Chennai Weather Forecast for December 2024 is based on long term prognosis and previous\"}, {\"url\": \"https://www.easeweather.com/asia/india/tamil-nadu/chennai/december\", \"content\": \"Weather in Chennai in December 2024 - Detailed Forecast Weather in Chennai for December 2024 Your guide to Chennai weather in December - trends and predictions Expect significant rainfall in Chennai during December, with an average of 16 rainy days. Chennai in December average weather Temperatures trend during December in Chennai Chennai in December - FAQ What to pack to Chennai in December? As you prepare for your trip to Chennai in December, it's important to consider the typical weather patterns for the time of year. Below is a carefully tailored packing list to ensure that your time in Chennai, during December, is comfortable and enjoyable, regardless of the weather conditions. December Weather\"}]\n",
      "{'name': 'tavily_search_results_json', 'description': 'A search engine optimized for comprehensive, accurate, and trusted results. Useful for when you need to answer questions about current events. Input should be a search query.', 'parameters': {'type_': 6, 'description': 'Input for the Tavily tool.', 'properties': {'query': {'type_': 1, 'description': 'search query to look up', 'format_': '', 'nullable': False, 'enum': [], 'max_items': '0', 'min_items': '0', 'properties': {}, 'required': []}}, 'required': ['query'], 'format_': '', 'nullable': False, 'enum': [], 'max_items': '0', 'min_items': '0'}}\n",
      "==================================\u001b[1m Ai Message \u001b[0m==================================\n",
      "\n",
      "The weather in Chennai, India is currently 26.2°C and misty. The wind is blowing from the ESE at 27.7 kph.  The humidity is 89%.\n"
     ]
    }
   ],
   "source": [
    "events1= app.stream(None, config, stream_mode='values')\n",
    "\n",
    "for event in events1:\n",
    "    event['messages'][-1].pretty_print()"
   ]
  },
  {
   "cell_type": "markdown",
   "metadata": {},
   "source": [
    "### Instead of getting the messages through tool, we can pass our own message"
   ]
  },
  {
   "cell_type": "code",
   "execution_count": 47,
   "metadata": {},
   "outputs": [
    {
     "name": "stdout",
     "output_type": "stream",
     "text": [
      "================================\u001b[1m Human Message \u001b[0m=================================\n",
      "\n",
      "give me the recent news of it?\n",
      "{'name': 'tavily_search_results_json', 'description': 'A search engine optimized for comprehensive, accurate, and trusted results. Useful for when you need to answer questions about current events. Input should be a search query.', 'parameters': {'type_': 6, 'description': 'Input for the Tavily tool.', 'properties': {'query': {'type_': 1, 'description': 'search query to look up', 'format_': '', 'nullable': False, 'enum': [], 'max_items': '0', 'min_items': '0', 'properties': {}, 'required': []}}, 'required': ['query'], 'format_': '', 'nullable': False, 'enum': [], 'max_items': '0', 'min_items': '0'}}\n",
      "==================================\u001b[1m Ai Message \u001b[0m==================================\n",
      "Tool Calls:\n",
      "  tavily_search_results_json (77b748f9-618d-4477-976b-c0d16233a7cc)\n",
      " Call ID: 77b748f9-618d-4477-976b-c0d16233a7cc\n",
      "  Args:\n",
      "    query: recent news Chennai India\n"
     ]
    }
   ],
   "source": [
    "input2= {'messages': ['give me the recent news of it?']}\n",
    "\n",
    "events2= app.stream(input2, config, stream_mode='values')\n",
    "\n",
    "for event in events2:\n",
    "    event['messages'][-1].pretty_print()"
   ]
  },
  {
   "cell_type": "code",
   "execution_count": 48,
   "metadata": {},
   "outputs": [
    {
     "name": "stdout",
     "output_type": "stream",
     "text": [
      "==================================\u001b[1m Ai Message \u001b[0m==================================\n",
      "Tool Calls:\n",
      "  tavily_search_results_json (77b748f9-618d-4477-976b-c0d16233a7cc)\n",
      " Call ID: 77b748f9-618d-4477-976b-c0d16233a7cc\n",
      "  Args:\n",
      "    query: recent news Chennai India\n"
     ]
    }
   ],
   "source": [
    "# currently it's interrupted before Tools\n",
    "\n",
    "snapshot=app.get_state(config) \n",
    "current_message = snapshot.values[\"messages\"][-1]\n",
    "current_message.pretty_print()"
   ]
  },
  {
   "cell_type": "code",
   "execution_count": 49,
   "metadata": {},
   "outputs": [
    {
     "data": {
      "text/plain": [
       "'77b748f9-618d-4477-976b-c0d16233a7cc'"
      ]
     },
     "execution_count": 49,
     "metadata": {},
     "output_type": "execute_result"
    }
   ],
   "source": [
    "tool_call_id = current_message.tool_calls[0][\"id\"] \n",
    "tool_call_id"
   ]
  },
  {
   "cell_type": "code",
   "execution_count": 50,
   "metadata": {},
   "outputs": [],
   "source": [
    "from langchain_core.messages import AIMessage, ToolMessage\n",
    "\n",
    "answer = \"it is just related to expecting heavy rainfall for next 2 days due to cyclone Fengal which is formed in bay of bengal\"\n",
    "\n",
    "\n",
    "new_messages = [\n",
    "    ToolMessage(content=answer, tool_call_id=tool_call_id),\n",
    "    AIMessage(content=answer),\n",
    "]\n"
   ]
  },
  {
   "cell_type": "code",
   "execution_count": 51,
   "metadata": {},
   "outputs": [
    {
     "data": {
      "text/plain": [
       "{'configurable': {'thread_id': '1',\n",
       "  'checkpoint_ns': '',\n",
       "  'checkpoint_id': '1efafedb-3211-6ead-800c-770c06484f06'}}"
      ]
     },
     "execution_count": 51,
     "metadata": {},
     "output_type": "execute_result"
    }
   ],
   "source": [
    "app.update_state(\n",
    "    config,\n",
    "    {\"messages\": new_messages},)"
   ]
  },
  {
   "cell_type": "code",
   "execution_count": 52,
   "metadata": {},
   "outputs": [
    {
     "name": "stdout",
     "output_type": "stream",
     "text": [
      "[AIMessage(content='it is just related to expecting heavy rainfall for next 2 days due to cyclone Fengal which is formed in bay of bengal', additional_kwargs={}, response_metadata={}, id='e42c71ff-3dfa-472b-a96a-3378136a0107')]\n"
     ]
    }
   ],
   "source": [
    "print(app.get_state(config).values[\"messages\"][-1:])"
   ]
  },
  {
   "cell_type": "code",
   "execution_count": null,
   "metadata": {},
   "outputs": [],
   "source": []
  }
 ],
 "metadata": {
  "kernelspec": {
   "display_name": "Python 3",
   "language": "python",
   "name": "python3"
  },
  "language_info": {
   "codemirror_mode": {
    "name": "ipython",
    "version": 3
   },
   "file_extension": ".py",
   "mimetype": "text/x-python",
   "name": "python",
   "nbconvert_exporter": "python",
   "pygments_lexer": "ipython3",
   "version": "3.10.15"
  }
 },
 "nbformat": 4,
 "nbformat_minor": 2
}

{
 "cells": [
  {
   "cell_type": "markdown",
   "metadata": {},
   "source": [
    "### This is the simple workflow with LangGraph"
   ]
  },
  {
   "cell_type": "code",
   "execution_count": 1,
   "metadata": {},
   "outputs": [],
   "source": [
    "from langgraph.graph import Graph\n",
    "\n",
    "## Assigning the Graph class to object\n",
    "workflow1= Graph()"
   ]
  },
  {
   "cell_type": "code",
   "execution_count": 2,
   "metadata": {},
   "outputs": [
    {
     "data": {
      "text/plain": [
       "{'nodes': {},\n",
       " 'edges': set(),\n",
       " 'branches': defaultdict(dict, {}),\n",
       " 'support_multiple_edges': False,\n",
       " 'compiled': False}"
      ]
     },
     "execution_count": 2,
     "metadata": {},
     "output_type": "execute_result"
    }
   ],
   "source": [
    "workflow1.__dict__"
   ]
  },
  {
   "cell_type": "code",
   "execution_count": 3,
   "metadata": {},
   "outputs": [],
   "source": [
    "def function1(input1):\n",
    "    return input1 + ' from first function'\n",
    "\n",
    "def function2(input2):\n",
    "    return input2 + ' and mani from second function'"
   ]
  },
  {
   "cell_type": "code",
   "execution_count": 5,
   "metadata": {},
   "outputs": [
    {
     "data": {
      "text/plain": [
       "<langgraph.graph.graph.Graph at 0x1f433f08df0>"
      ]
     },
     "execution_count": 5,
     "metadata": {},
     "output_type": "execute_result"
    }
   ],
   "source": [
    "## Adding functions to workflow1 as node\n",
    "\n",
    "workflow1.add_node('function1', function1)\n",
    "\n",
    "workflow1.add_node('function2', function2)"
   ]
  },
  {
   "cell_type": "code",
   "execution_count": 6,
   "metadata": {},
   "outputs": [
    {
     "data": {
      "text/plain": [
       "<langgraph.graph.graph.Graph at 0x1f433f08df0>"
      ]
     },
     "execution_count": 6,
     "metadata": {},
     "output_type": "execute_result"
    }
   ],
   "source": [
    "## Adding the edges between functions\n",
    "\n",
    "workflow1.add_edge('function1', 'function2')"
   ]
  },
  {
   "cell_type": "code",
   "execution_count": 7,
   "metadata": {},
   "outputs": [
    {
     "data": {
      "text/plain": [
       "<langgraph.graph.graph.Graph at 0x1f433f08df0>"
      ]
     },
     "execution_count": 7,
     "metadata": {},
     "output_type": "execute_result"
    }
   ],
   "source": [
    "## Setting the entry point, end point of graph\n",
    "\n",
    "workflow1.set_entry_point('function1')\n",
    "\n",
    "workflow1.set_finish_point('function2')"
   ]
  },
  {
   "cell_type": "code",
   "execution_count": 8,
   "metadata": {},
   "outputs": [],
   "source": [
    "##  workflow1 is ready to compile\n",
    "\n",
    "app1= workflow1.compile()"
   ]
  },
  {
   "cell_type": "code",
   "execution_count": 9,
   "metadata": {},
   "outputs": [
    {
     "data": {
      "image/jpeg": "[encoded data removed]",
      "text/plain": [
       "<IPython.core.display.Image object>"
      ]
     },
     "metadata": {},
     "output_type": "display_data"
    }
   ],
   "source": [
    "## Visualize the workflow chart\n",
    "\n",
    "from IPython.display import Image, display\n",
    "\n",
    "try:\n",
    "    display(Image(app1.get_graph().draw_mermaid_png()))\n",
    "except Exception as e:\n",
    "    print(e)"
   ]
  },
  {
   "cell_type": "code",
   "execution_count": 10,
   "metadata": {},
   "outputs": [
    {
     "data": {
      "text/plain": [
       "'Hi!, this is Malathy from first function and mani from second function'"
      ]
     },
     "execution_count": 10,
     "metadata": {},
     "output_type": "execute_result"
    }
   ],
   "source": [
    "## Executing the workflow1\n",
    "\n",
    "app1.invoke('Hi!, this is Malathy')"
   ]
  },
  {
   "cell_type": "code",
   "execution_count": 11,
   "metadata": {},
   "outputs": [
    {
     "name": "stdout",
     "output_type": "stream",
     "text": [
      "here is the output from function1\n",
      "-------------\n",
      "Hi! this is Malathy from first function\n",
      "\n",
      "\n",
      "here is the output from function2\n",
      "-------------\n",
      "Hi! this is Malathy from first function and mani from second function\n",
      "\n",
      "\n"
     ]
    }
   ],
   "source": [
    "## Checking the execuation of each functions\n",
    "\n",
    "input= 'Hi! this is Malathy'\n",
    "\n",
    "for output in app1.stream(input):\n",
    "    for key, value in output.items():\n",
    "        print(f'here is the output from {key}')\n",
    "        print('-------------')\n",
    "        print(value)\n",
    "        print('\\n')\n",
    "        "
   ]
  },
  {
   "cell_type": "markdown",
   "metadata": {},
   "source": [
    "### It's a Workflow with LLM"
   ]
  },
  {
   "cell_type": "code",
   "execution_count": 21,
   "metadata": {},
   "outputs": [
    {
     "data": {
      "text/plain": [
       "'Hello there! How can I assist you today?'"
      ]
     },
     "execution_count": 21,
     "metadata": {},
     "output_type": "execute_result"
    }
   ],
   "source": [
    "# Intializing the Gemini LLM\n",
    "\n",
    "from langchain_google_genai import GoogleGenerativeAIEmbeddings, ChatGoogleGenerativeAI\n",
    "\n",
    "embedding= GoogleGenerativeAIEmbeddings(model= 'models/embedding-001')\n",
    "llm= ChatGoogleGenerativeAI(model='gemini-1.0-pro')\n",
    "\n",
    "llm.invoke('Hello').content"
   ]
  },
  {
   "cell_type": "code",
   "execution_count": 28,
   "metadata": {},
   "outputs": [],
   "source": [
    "def function1(input):\n",
    "    llm= ChatGoogleGenerativeAI(model='gemini-1.0-pro')\n",
    "    response= llm.invoke(input).content\n",
    "    return response"
   ]
  },
  {
   "cell_type": "code",
   "execution_count": 29,
   "metadata": {},
   "outputs": [],
   "source": [
    "def function2(input):\n",
    "    upper_case= input.upper()\n",
    "    return upper_case"
   ]
  },
  {
   "cell_type": "code",
   "execution_count": 30,
   "metadata": {},
   "outputs": [],
   "source": [
    "from langgraph.graph import Graph\n",
    "\n",
    "workflow3=Graph()\n",
    "\n",
    "# Adding the fucntion as node\n",
    "workflow3.add_node('llm', function1)\n",
    "workflow3.add_node('function', function2)\n",
    "\n",
    "# Adding the edge between function\n",
    "workflow3.add_edge('llm','function')\n",
    "\n",
    "# Setting the entry and finish point of graph\n",
    "workflow3.set_entry_point('llm')\n",
    "workflow3.set_finish_point('function')\n",
    "\n",
    "# complie the workflow3\n",
    "app2= workflow3.compile()"
   ]
  },
  {
   "cell_type": "code",
   "execution_count": 31,
   "metadata": {},
   "outputs": [
    {
     "data": {
      "image/jpeg": "[encoded data removed]",
      "text/plain": [
       "<IPython.core.display.Image object>"
      ]
     },
     "metadata": {},
     "output_type": "display_data"
    }
   ],
   "source": [
    "from IPython.display import Image, display\n",
    "\n",
    "try:\n",
    "    display(Image(app2.get_graph().draw_mermaid_png()))\n",
    "except Exception as e:\n",
    "    print(e)"
   ]
  },
  {
   "cell_type": "code",
   "execution_count": 32,
   "metadata": {},
   "outputs": [
    {
     "data": {
      "text/plain": [
       "'C. RAJAGOPALACHARI'"
      ]
     },
     "execution_count": 32,
     "metadata": {},
     "output_type": "execute_result"
    }
   ],
   "source": [
    "app2.invoke('who is the first chief minsiter of Tamil Nadu')"
   ]
  },
  {
   "cell_type": "code",
   "execution_count": 33,
   "metadata": {},
   "outputs": [
    {
     "name": "stdout",
     "output_type": "stream",
     "text": [
      "**VELUPILLAI PRABHAKARAN** (NOVEMBER 26, 1954 – MAY 18, 2009) WAS THE LEADER OF THE LIBERATION TIGERS OF TAMIL EELAM (LTTE), A MILITANT SEPARATIST ORGANIZATION THAT FOUGHT FOR THE INDEPENDENCE OF A TAMIL STATE IN NORTHERN AND EASTERN SRI LANKA.\n",
      "\n",
      "**EARLY LIFE AND EDUCATION:**\n",
      "\n",
      "* BORN IN VELVETTITURAI, JAFFNA, SRI LANKA, TO A POOR TAMIL FAMILY.\n",
      "* STUDIED AT JAFFNA HINDU COLLEGE.\n",
      "* BECAME INTERESTED IN TAMIL NATIONALISM AT A YOUNG AGE.\n",
      "\n",
      "**FORMATION OF THE LTTE:**\n",
      "\n",
      "* IN 1972, CO-FOUNDED THE TAMIL NEW TIGERS, WHICH LATER BECAME THE LTTE.\n",
      "* THE LTTE AIMED TO ESTABLISH A SEPARATE TAMIL STATE CALLED TAMIL EELAM.\n",
      "\n",
      "**TAMIL INSURGENCY:**\n",
      "\n",
      "* LED THE LTTE IN A BLOODY INSURGENCY AGAINST THE SRI LANKAN GOVERNMENT FROM 1983 TO 2009.\n",
      "* USED GUERRILLA WARFARE TACTICS, INCLUDING SUICIDE BOMBINGS AND CHILD SOLDIERS.\n",
      "\n",
      "**PEACE PROCESS:**\n",
      "\n",
      "* IN 2002, A CEASEFIRE AGREEMENT WAS SIGNED BETWEEN THE LTTE AND THE GOVERNMENT.\n",
      "* HOWEVER, PEACE TALKS COLLAPSED IN 2006, AND THE INSURGENCY RESUMED.\n",
      "\n",
      "**FINAL BATTLE:**\n",
      "\n",
      "* IN 2009, THE SRI LANKAN MILITARY LAUNCHED A MASSIVE OFFENSIVE AGAINST THE LTTE.\n",
      "* PRABHAKARAN AND HIS TOP COMMANDERS WERE KILLED ON MAY 18, 2009, IN AN AMBUSH.\n",
      "\n",
      "**LEGACY:**\n",
      "\n",
      "* PRABHAKARAN REMAINS A CONTROVERSIAL FIGURE IN SRI LANKA.\n",
      "* SUPPORTERS VIEW HIM AS A FREEDOM FIGHTER WHO FOUGHT FOR TAMIL RIGHTS.\n",
      "* CRITICS CONDEMN HIM AS A TERRORIST WHO CAUSED IMMENSE SUFFERING.\n",
      "* HIS DEATH MARKED THE END OF THE ARMED CONFLICT IN SRI LANKA, BUT THE UNDERLYING ISSUES OF TAMIL NATIONALISM AND DISCRIMINATION PERSIST.\n"
     ]
    }
   ],
   "source": [
    "print(app2.invoke('who is LTTE prabhakaran'))"
   ]
  },
  {
   "cell_type": "code",
   "execution_count": 34,
   "metadata": {},
   "outputs": [
    {
     "name": "stdout",
     "output_type": "stream",
     "text": [
      "here is output from llm\n",
      "_______\n",
      "C. Rajagopalachari\n",
      "\n",
      "\n",
      "here is output from function\n",
      "_______\n",
      "C. RAJAGOPALACHARI\n",
      "\n",
      "\n"
     ]
    }
   ],
   "source": [
    "input= 'who is the first chief minsiter of tamil nadu'\n",
    "\n",
    "for output in app2.stream(input):\n",
    "    for key,value in output.items():\n",
    "        print(f\"here is output from {key}\")\n",
    "        print(\"_______\")\n",
    "        print(value)\n",
    "        print(\"\\n\")"
   ]
  },
  {
   "cell_type": "markdown",
   "metadata": {},
   "source": [
    "### Here lets create our own output token counter"
   ]
  },
  {
   "cell_type": "code",
   "execution_count": 35,
   "metadata": {},
   "outputs": [],
   "source": [
    "def token_counter(input):\n",
    "    text=input.split()\n",
    "    count=len(text)\n",
    "    return (f\"Total token number is {count}\")\n",
    "    "
   ]
  },
  {
   "cell_type": "code",
   "execution_count": 36,
   "metadata": {},
   "outputs": [],
   "source": [
    "def llm(input):\n",
    "    llm= ChatGoogleGenerativeAI(model='gemini-1.0-pro')\n",
    "    response= llm.invoke(input).content\n",
    "    return response"
   ]
  },
  {
   "cell_type": "code",
   "execution_count": 38,
   "metadata": {},
   "outputs": [],
   "source": [
    "from langgraph.graph import Graph\n",
    "\n",
    "workflow3=Graph()\n",
    "\n",
    "# Adding the fucntion as node\n",
    "workflow3.add_node('llm', llm)\n",
    "workflow3.add_node('token_counter', token_counter)\n",
    "\n",
    "# Adding the edge between function\n",
    "workflow3.add_edge('llm','token_counter')\n",
    "\n",
    "# Setting the entry and finish point of graph\n",
    "workflow3.set_entry_point('llm')\n",
    "workflow3.set_finish_point('token_counter')\n",
    "\n",
    "# complie the workflow3\n",
    "app3= workflow3.compile()"
   ]
  },
  {
   "cell_type": "code",
   "execution_count": 39,
   "metadata": {},
   "outputs": [
    {
     "data": {
      "image/jpeg": "[encoded data removed]",
      "text/plain": [
       "<IPython.core.display.Image object>"
      ]
     },
     "metadata": {},
     "output_type": "display_data"
    }
   ],
   "source": [
    "from IPython.display import Image, display\n",
    "\n",
    "try:\n",
    "    display(Image(app3.get_graph().draw_mermaid_png()))\n",
    "except Exception as e:\n",
    "    print(e)"
   ]
  },
  {
   "cell_type": "code",
   "execution_count": 40,
   "metadata": {},
   "outputs": [
    {
     "data": {
      "text/plain": [
       "'Total token number is 2'"
      ]
     },
     "execution_count": 40,
     "metadata": {},
     "output_type": "execute_result"
    }
   ],
   "source": [
    "app3.invoke('who is the first prime minsiter of India?')"
   ]
  },
  {
   "cell_type": "code",
   "execution_count": 41,
   "metadata": {},
   "outputs": [
    {
     "name": "stdout",
     "output_type": "stream",
     "text": [
      "here is output from llm\n",
      "_______\n",
      "Jawaharlal Nehru\n",
      "\n",
      "\n",
      "here is output from token_counter\n",
      "_______\n",
      "Total token number is 2\n",
      "\n",
      "\n"
     ]
    }
   ],
   "source": [
    "input= 'who is the first prime minsiter of India'\n",
    "\n",
    "for output in app3.stream(input):\n",
    "    for key,value in output.items():\n",
    "        print(f\"here is output from {key}\")\n",
    "        print(\"_______\")\n",
    "        print(value)\n",
    "        print(\"\\n\")"
   ]
  },
  {
   "cell_type": "code",
   "execution_count": null,
   "metadata": {},
   "outputs": [],
   "source": []
  }
 ],
 "metadata": {
  "kernelspec": {
   "display_name": "Python 3",
   "language": "python",
   "name": "python3"
  },
  "language_info": {
   "codemirror_mode": {
    "name": "ipython",
    "version": 3
   },
   "file_extension": ".py",
   "mimetype": "text/x-python",
   "name": "python",
   "nbconvert_exporter": "python",
   "pygments_lexer": "ipython3",
   "version": "3.10.15"
  }
 },
 "nbformat": 4,
 "nbformat_minor": 2
}

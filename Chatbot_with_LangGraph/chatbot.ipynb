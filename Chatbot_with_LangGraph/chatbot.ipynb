{
 "cells": [
  {
   "cell_type": "markdown",
   "metadata": {},
   "source": [
    "### Chatbot with LangGraph"
   ]
  },
  {
   "cell_type": "code",
   "execution_count": 5,
   "metadata": {},
   "outputs": [
    {
     "name": "stderr",
     "output_type": "stream",
     "text": [
      "f:\\Generative_AI\\Projects\\LangGraph-End_to_End\\venv\\lib\\site-packages\\tqdm\\auto.py:21: TqdmWarning: IProgress not found. Please update jupyter and ipywidgets. See https://ipywidgets.readthedocs.io/en/stable/user_install.html\n",
      "  from .autonotebook import tqdm as notebook_tqdm\n"
     ]
    },
    {
     "data": {
      "text/plain": [
       "\"Hello Mani! It's nice to meet you. Is there anything I can help you with today?\""
      ]
     },
     "execution_count": 5,
     "metadata": {},
     "output_type": "execute_result"
    }
   ],
   "source": [
    "from langchain_google_genai import ChatGoogleGenerativeAI\n",
    "\n",
    "llm= ChatGoogleGenerativeAI(model='gemini-1.0-pro')\n",
    "\n",
    "input= 'Hi! this is Mani'\n",
    "llm.invoke(input).content"
   ]
  },
  {
   "cell_type": "code",
   "execution_count": 6,
   "metadata": {},
   "outputs": [],
   "source": [
    "from langgraph.graph import StateGraph,MessagesState, START, END\n",
    "from langgraph.graph.message import add_messages\n",
    "from langgraph.checkpoint.memory import MemorySaver\n",
    "from langgraph.prebuilt import ToolNode\n",
    "from typing import Annotated, Literal, TypedDict\n",
    "from langchain_core.tools import tool\n",
    "from langchain_core.messages import HumanMessage\n"
   ]
  },
  {
   "cell_type": "code",
   "execution_count": 7,
   "metadata": {},
   "outputs": [],
   "source": [
    "def call_model(state: MessagesState):\n",
    "    messages=state['messages']\n",
    "    response= llm.invoke(messages)\n",
    "    return {'messages': [response]}"
   ]
  },
  {
   "cell_type": "code",
   "execution_count": 8,
   "metadata": {},
   "outputs": [],
   "source": [
    "# Building the LangGraph workflow\n",
    "\n",
    "workflow= StateGraph(MessagesState)\n",
    "workflow.add_node('chatbot', call_model)\n",
    "workflow.add_edge(START, 'chatbot')\n",
    "workflow.add_edge('chatbot', END)\n",
    "app= workflow.compile()"
   ]
  },
  {
   "cell_type": "code",
   "execution_count": 9,
   "metadata": {},
   "outputs": [
    {
     "data": {
      "image/jpeg": "[encoded data removed]",
      "text/plain": [
       "<IPython.core.display.Image object>"
      ]
     },
     "metadata": {},
     "output_type": "display_data"
    }
   ],
   "source": [
    "from IPython.display import display, Image\n",
    "display(Image(app.get_graph().draw_mermaid_png()))"
   ]
  },
  {
   "cell_type": "code",
   "execution_count": null,
   "metadata": {},
   "outputs": [],
   "source": [
    "# MessagesState is nothing giving input in the form of {'messages':[list of Messages]}\n",
    "class MessagesState(TypedDict):\n",
    "    messages: Annotated[list[AnyMessage], add_messages]"
   ]
  },
  {
   "cell_type": "code",
   "execution_count": 10,
   "metadata": {},
   "outputs": [
    {
     "data": {
      "text/plain": [
       "{'messages': [HumanMessage(content=\"Hi, I'm mani\", additional_kwargs={}, response_metadata={}, id='f5d9abde-1831-4751-b597-074feaa97019'),\n",
       "  AIMessage(content=\"Hello Mani, it's nice to meet you. My name is Gemini. I am a multi-modal AI model, developed by Google. How can I assist you today?\", additional_kwargs={}, response_metadata={'prompt_feedback': {'block_reason': 0, 'safety_ratings': []}, 'finish_reason': 'STOP', 'safety_ratings': [{'category': 'HARM_CATEGORY_SEXUALLY_EXPLICIT', 'probability': 'NEGLIGIBLE', 'blocked': False}, {'category': 'HARM_CATEGORY_HATE_SPEECH', 'probability': 'NEGLIGIBLE', 'blocked': False}, {'category': 'HARM_CATEGORY_HARASSMENT', 'probability': 'NEGLIGIBLE', 'blocked': False}, {'category': 'HARM_CATEGORY_DANGEROUS_CONTENT', 'probability': 'NEGLIGIBLE', 'blocked': False}]}, id='run-c7afd771-8e1b-4465-b88c-6951ffd045c4-0', usage_metadata={'input_tokens': 7, 'output_tokens': 36, 'total_tokens': 43})]}"
      ]
     },
     "execution_count": 10,
     "metadata": {},
     "output_type": "execute_result"
    }
   ],
   "source": [
    "input= {'messages':[\"Hi, I'm mani\"]}\n",
    "app.invoke(input)"
   ]
  },
  {
   "cell_type": "code",
   "execution_count": 11,
   "metadata": {},
   "outputs": [
    {
     "name": "stdout",
     "output_type": "stream",
     "text": [
      "output from chatbot node\n",
      "__________________\n",
      "{'messages': [AIMessage(content=\"Nice to meet you, Mani. I'm Gemini, a multi-modal AI language model developed by Google. I'm designed to assist and provide information to the best of my abilities. Is there anything I can help you with today?\", additional_kwargs={}, response_metadata={'prompt_feedback': {'block_reason': 0, 'safety_ratings': []}, 'finish_reason': 'STOP', 'safety_ratings': [{'category': 'HARM_CATEGORY_SEXUALLY_EXPLICIT', 'probability': 'NEGLIGIBLE', 'blocked': False}, {'category': 'HARM_CATEGORY_HATE_SPEECH', 'probability': 'NEGLIGIBLE', 'blocked': False}, {'category': 'HARM_CATEGORY_HARASSMENT', 'probability': 'NEGLIGIBLE', 'blocked': False}, {'category': 'HARM_CATEGORY_DANGEROUS_CONTENT', 'probability': 'NEGLIGIBLE', 'blocked': False}]}, id='run-600bc5c5-9a38-45cb-81db-82b30e048c9b-0', usage_metadata={'input_tokens': 7, 'output_tokens': 49, 'total_tokens': 56})]}\n",
      "\n",
      "\n"
     ]
    }
   ],
   "source": [
    "for output in app.stream(input):\n",
    "    for key, value in output.items():\n",
    "        print(f'output from {key} node')\n",
    "        print('__________________')\n",
    "        print(value)\n",
    "        print('\\n')"
   ]
  },
  {
   "cell_type": "code",
   "execution_count": 12,
   "metadata": {},
   "outputs": [
    {
     "data": {
      "text/plain": [
       "StructuredTool(name='search', description='this is my custom tool function', args_schema=<class 'langchain_core.utils.pydantic.search'>, func=<function search at 0x0000025CEDDE79A0>)"
      ]
     },
     "execution_count": 12,
     "metadata": {},
     "output_type": "execute_result"
    }
   ],
   "source": [
    "# Creaing the simple tool function\n",
    "@tool\n",
    "def search(query: str):\n",
    "    ''' this is my custom tool function'''\n",
    "    if 'sf' in query.lower() or 'san francisco' in query.lower():\n",
    "        return \"It's 60 degrees and foggy.\"\n",
    "    else:\n",
    "        return \"It's 90 degrees and sunny.\"\n",
    "    \n",
    "search"
   ]
  },
  {
   "cell_type": "code",
   "execution_count": 13,
   "metadata": {},
   "outputs": [
    {
     "data": {
      "text/plain": [
       "\"It's 60 degrees and foggy.\""
      ]
     },
     "execution_count": 13,
     "metadata": {},
     "output_type": "execute_result"
    }
   ],
   "source": [
    "search.invoke('what is the temp in sf ?')"
   ]
  },
  {
   "cell_type": "code",
   "execution_count": 14,
   "metadata": {},
   "outputs": [],
   "source": [
    "# creating tools\n",
    "tools=[search]\n",
    "\n",
    "tool_node= ToolNode(tools)"
   ]
  },
  {
   "cell_type": "code",
   "execution_count": 18,
   "metadata": {},
   "outputs": [
    {
     "name": "stderr",
     "output_type": "stream",
     "text": [
      "Key 'title' is not supported in schema, ignoring\n",
      "Key 'title' is not supported in schema, ignoring\n"
     ]
    },
    {
     "name": "stdout",
     "output_type": "stream",
     "text": [
      "{'name': 'search', 'description': 'this is my custom tool function', 'parameters': {'type_': 6, 'description': 'this is my custom tool function', 'properties': {'query': {'type_': 1, 'format_': '', 'description': '', 'nullable': False, 'enum': [], 'max_items': '0', 'min_items': '0', 'properties': {}, 'required': []}}, 'required': ['query'], 'format_': '', 'nullable': False, 'enum': [], 'max_items': '0', 'min_items': '0'}}\n"
     ]
    },
    {
     "data": {
      "text/plain": [
       "{'messages': [AIMessage(content='I am doing well. How can I help you today, Mani?', additional_kwargs={}, response_metadata={'prompt_feedback': {'block_reason': 0, 'safety_ratings': []}, 'finish_reason': 'STOP', 'safety_ratings': [{'category': 'HARM_CATEGORY_SEXUALLY_EXPLICIT', 'probability': 'NEGLIGIBLE', 'blocked': False}, {'category': 'HARM_CATEGORY_HATE_SPEECH', 'probability': 'NEGLIGIBLE', 'blocked': False}, {'category': 'HARM_CATEGORY_HARASSMENT', 'probability': 'NEGLIGIBLE', 'blocked': False}, {'category': 'HARM_CATEGORY_DANGEROUS_CONTENT', 'probability': 'NEGLIGIBLE', 'blocked': False}]}, id='run-8aace301-94df-45c0-8195-01be3eadbc74-0', usage_metadata={'input_tokens': 47, 'output_tokens': 14, 'total_tokens': 61})]}"
      ]
     },
     "execution_count": 18,
     "metadata": {},
     "output_type": "execute_result"
    }
   ],
   "source": [
    "# Binding tools in LLM\n",
    "\n",
    "llm_with_tool=llm.bind_tools(tools)\n",
    "\n",
    "def call_model_with_tool(state: MessagesState):\n",
    "    messages= state['messages']\n",
    "    response= llm_with_tool.invoke(messages)\n",
    "    return {'messages': [response]}\n",
    "\n",
    "input1= {'messages':['Hi, this is mani. how are you?']}\n",
    "response= call_model_with_tool(input1)\n",
    "response"
   ]
  },
  {
   "cell_type": "code",
   "execution_count": null,
   "metadata": {},
   "outputs": [
    {
     "data": {
      "text/plain": [
       "[]"
      ]
     },
     "execution_count": 20,
     "metadata": {},
     "output_type": "execute_result"
    }
   ],
   "source": [
    "# Here It gave answer through llm not by tools\n",
    "\n",
    "messages= response['messages']\n",
    "last_message= messages[-1]\n",
    "last_message.tool_calls"
   ]
  },
  {
   "cell_type": "code",
   "execution_count": null,
   "metadata": {},
   "outputs": [
    {
     "name": "stdout",
     "output_type": "stream",
     "text": [
      "{'name': 'search', 'description': 'this is my custom tool function', 'parameters': {'type_': 6, 'description': 'this is my custom tool function', 'properties': {'query': {'type_': 1, 'format_': '', 'description': '', 'nullable': False, 'enum': [], 'max_items': '0', 'min_items': '0', 'properties': {}, 'required': []}}, 'required': ['query'], 'format_': '', 'nullable': False, 'enum': [], 'max_items': '0', 'min_items': '0'}}\n"
     ]
    },
    {
     "data": {
      "text/plain": [
       "[{'name': 'search',\n",
       "  'args': {'query': 'temp in sf'},\n",
       "  'id': '51d1de17-54a1-4b9d-8ff8-5ca1b8d65187',\n",
       "  'type': 'tool_call'}]"
      ]
     },
     "execution_count": 21,
     "metadata": {},
     "output_type": "execute_result"
    }
   ],
   "source": [
    "# Here it called the tool based om search query\n",
    "input2={'messages':['Hi, what is temp in sf ?']}\n",
    "response= call_model_with_tool(input2)\n",
    "\n",
    "messages= response['messages']\n",
    "last_message= messages[-1]\n",
    "last_message.tool_calls"
   ]
  },
  {
   "cell_type": "markdown",
   "metadata": {},
   "source": [
    "## DAG - Direct Acyclic graph\n",
    "- Direct Acyclic graph won't form loop between any functions or node\n",
    "- Example"
   ]
  },
  {
   "cell_type": "code",
   "execution_count": 22,
   "metadata": {},
   "outputs": [],
   "source": [
    "# Router function used to identify whether Agent (LLM with tool)  answer itself or calling tool to answer\n",
    "def router_function(state: MessagesState) -> Literal['tools',END]:\n",
    "    messages= state['messages']\n",
    "    last_message= messages[-1]\n",
    "    if last_message.tool_calls:\n",
    "        return 'tools'\n",
    "    else:\n",
    "        return END"
   ]
  },
  {
   "cell_type": "code",
   "execution_count": 23,
   "metadata": {},
   "outputs": [],
   "source": [
    "# Making DAG workflow\n",
    "\n",
    "workflow= StateGraph(MessagesState)\n",
    "\n",
    "workflow.add_node('agent', call_model_with_tool)\n",
    "workflow.add_node('tools', tool_node)\n",
    "\n",
    "workflow.add_edge(START, 'agent')\n",
    "workflow.add_conditional_edges('agent', router_function, {'tools':'tools', END:END})\n",
    "app= workflow.compile()"
   ]
  },
  {
   "cell_type": "code",
   "execution_count": 25,
   "metadata": {},
   "outputs": [
    {
     "data": {
      "image/jpeg": "[encoded data removed]",
      "text/plain": [
       "<IPython.core.display.Image object>"
      ]
     },
     "metadata": {},
     "output_type": "display_data"
    }
   ],
   "source": [
    "from IPython.display import display, Image\n",
    "display(Image(app.get_graph().draw_mermaid_png()))"
   ]
  },
  {
   "cell_type": "code",
   "execution_count": 26,
   "metadata": {},
   "outputs": [
    {
     "name": "stdout",
     "output_type": "stream",
     "text": [
      "{'name': 'search', 'description': 'this is my custom tool function', 'parameters': {'type_': 6, 'description': 'this is my custom tool function', 'properties': {'query': {'type_': 1, 'format_': '', 'description': '', 'nullable': False, 'enum': [], 'max_items': '0', 'min_items': '0', 'properties': {}, 'required': []}}, 'required': ['query'], 'format_': '', 'nullable': False, 'enum': [], 'max_items': '0', 'min_items': '0'}}\n"
     ]
    },
    {
     "data": {
      "text/plain": [
       "{'messages': [HumanMessage(content='Hi, How are you', additional_kwargs={}, response_metadata={}, id='30b7f382-2bfa-42e8-ae06-5ad260b7585d'),\n",
       "  AIMessage(content='I am just a text based chatbot assistant and do not have personal feelings or experiences, therefore I am unable to have a subjective state such as being good or bad. I am here to help you with your language related tasks to the best of my abilities. How can I help you today?', additional_kwargs={}, response_metadata={'prompt_feedback': {'block_reason': 0, 'safety_ratings': []}, 'finish_reason': 'STOP', 'safety_ratings': [{'category': 'HARM_CATEGORY_SEXUALLY_EXPLICIT', 'probability': 'NEGLIGIBLE', 'blocked': False}, {'category': 'HARM_CATEGORY_HATE_SPEECH', 'probability': 'NEGLIGIBLE', 'blocked': False}, {'category': 'HARM_CATEGORY_HARASSMENT', 'probability': 'NEGLIGIBLE', 'blocked': False}, {'category': 'HARM_CATEGORY_DANGEROUS_CONTENT', 'probability': 'NEGLIGIBLE', 'blocked': False}]}, id='run-cbed26dd-4fc2-4af4-8284-561317794913-0', usage_metadata={'input_tokens': 42, 'output_tokens': 58, 'total_tokens': 100})]}"
      ]
     },
     "execution_count": 26,
     "metadata": {},
     "output_type": "execute_result"
    }
   ],
   "source": [
    "app.invoke({'messages':['Hi, How are you']})"
   ]
  },
  {
   "cell_type": "code",
   "execution_count": 27,
   "metadata": {},
   "outputs": [
    {
     "name": "stdout",
     "output_type": "stream",
     "text": [
      "{'name': 'search', 'description': 'this is my custom tool function', 'parameters': {'type_': 6, 'description': 'this is my custom tool function', 'properties': {'query': {'type_': 1, 'format_': '', 'description': '', 'nullable': False, 'enum': [], 'max_items': '0', 'min_items': '0', 'properties': {}, 'required': []}}, 'required': ['query'], 'format_': '', 'nullable': False, 'enum': [], 'max_items': '0', 'min_items': '0'}}\n"
     ]
    },
    {
     "data": {
      "text/plain": [
       "{'messages': [HumanMessage(content='what is the weather in sf', additional_kwargs={}, response_metadata={}, id='4315508d-2a37-4194-8e49-5162ae2cb282'),\n",
       "  AIMessage(content='', additional_kwargs={'function_call': {'name': 'search', 'arguments': '{\"query\": \"What is the weather in San Francisco\"}'}}, response_metadata={'prompt_feedback': {'block_reason': 0, 'safety_ratings': []}, 'finish_reason': 'STOP', 'safety_ratings': [{'category': 'HARM_CATEGORY_HATE_SPEECH', 'probability': 'NEGLIGIBLE', 'blocked': False}, {'category': 'HARM_CATEGORY_HARASSMENT', 'probability': 'NEGLIGIBLE', 'blocked': False}, {'category': 'HARM_CATEGORY_DANGEROUS_CONTENT', 'probability': 'NEGLIGIBLE', 'blocked': False}, {'category': 'HARM_CATEGORY_SEXUALLY_EXPLICIT', 'probability': 'NEGLIGIBLE', 'blocked': False}]}, id='run-923d5462-5853-444f-ad61-306187ee4bc0-0', tool_calls=[{'name': 'search', 'args': {'query': 'What is the weather in San Francisco'}, 'id': '97f3614a-41c7-4d06-bbdd-5a29ebd7024a', 'type': 'tool_call'}], usage_metadata={'input_tokens': 43, 'output_tokens': 19, 'total_tokens': 62}),\n",
       "  ToolMessage(content=\"It's 60 degrees and foggy.\", name='search', id='3a2ec54e-b01d-48da-894b-c46d0374686a', tool_call_id='97f3614a-41c7-4d06-bbdd-5a29ebd7024a')]}"
      ]
     },
     "execution_count": 27,
     "metadata": {},
     "output_type": "execute_result"
    }
   ],
   "source": [
    "app.invoke({\"messages\": [\"what is the weather in sf\"]})"
   ]
  },
  {
   "cell_type": "markdown",
   "metadata": {},
   "source": [
    "## DCE - Direct Cyclic Graph Generation\n",
    "\n",
    "- In DCE, we can find a cyclic pattern. its forming a loop between functions or nodes\n",
    "- Example"
   ]
  },
  {
   "cell_type": "code",
   "execution_count": 28,
   "metadata": {},
   "outputs": [],
   "source": [
    "def router_function(state: MessagesState) -> Literal['tools',END]:\n",
    "    messages= state['messages']\n",
    "    last_message= messages[-1]\n",
    "    if last_message.tool_calls:\n",
    "        return 'tools'\n",
    "    else:\n",
    "        return END"
   ]
  },
  {
   "cell_type": "code",
   "execution_count": 29,
   "metadata": {},
   "outputs": [],
   "source": [
    "# Making DCE workflow\n",
    "\n",
    "workflow= StateGraph(MessagesState)\n",
    "\n",
    "workflow.add_node('agent', call_model_with_tool)\n",
    "workflow.add_node('tools', tool_node)\n",
    "\n",
    "workflow.add_edge(START, 'agent')\n",
    "workflow.add_conditional_edges('agent', router_function, {'tools':'tools', END:END})\n",
    "# looping the tools node with agent node\n",
    "workflow.add_edge('tools', 'agent')\n",
    "apps= workflow.compile()"
   ]
  },
  {
   "cell_type": "code",
   "execution_count": 30,
   "metadata": {},
   "outputs": [
    {
     "data": {
      "image/jpeg": "[encoded data removed]",
      "text/plain": [
       "<IPython.core.display.Image object>"
      ]
     },
     "metadata": {},
     "output_type": "display_data"
    }
   ],
   "source": [
    "from IPython.display import display, Image\n",
    "display(Image(apps.get_graph().draw_mermaid_png()))"
   ]
  },
  {
   "cell_type": "code",
   "execution_count": 31,
   "metadata": {},
   "outputs": [
    {
     "name": "stdout",
     "output_type": "stream",
     "text": [
      "{'name': 'search', 'description': 'this is my custom tool function', 'parameters': {'type_': 6, 'description': 'this is my custom tool function', 'properties': {'query': {'type_': 1, 'format_': '', 'description': '', 'nullable': False, 'enum': [], 'max_items': '0', 'min_items': '0', 'properties': {}, 'required': []}}, 'required': ['query'], 'format_': '', 'nullable': False, 'enum': [], 'max_items': '0', 'min_items': '0'}}\n",
      "{'name': 'search', 'description': 'this is my custom tool function', 'parameters': {'type_': 6, 'description': 'this is my custom tool function', 'properties': {'query': {'type_': 1, 'format_': '', 'description': '', 'nullable': False, 'enum': [], 'max_items': '0', 'min_items': '0', 'properties': {}, 'required': []}}, 'required': ['query'], 'format_': '', 'nullable': False, 'enum': [], 'max_items': '0', 'min_items': '0'}}\n"
     ]
    },
    {
     "data": {
      "text/plain": [
       "{'messages': [HumanMessage(content='what is weather in sf ?', additional_kwargs={}, response_metadata={}, id='002f097c-acf7-49bc-912d-9db0f43c1d8d'),\n",
       "  AIMessage(content='', additional_kwargs={'function_call': {'name': 'search', 'arguments': '{\"query\": \"weather in sf\"}'}}, response_metadata={'prompt_feedback': {'block_reason': 0, 'safety_ratings': []}, 'finish_reason': 'STOP', 'safety_ratings': [{'category': 'HARM_CATEGORY_HARASSMENT', 'probability': 'NEGLIGIBLE', 'blocked': False}, {'category': 'HARM_CATEGORY_DANGEROUS_CONTENT', 'probability': 'NEGLIGIBLE', 'blocked': False}, {'category': 'HARM_CATEGORY_HATE_SPEECH', 'probability': 'NEGLIGIBLE', 'blocked': False}, {'category': 'HARM_CATEGORY_SEXUALLY_EXPLICIT', 'probability': 'NEGLIGIBLE', 'blocked': False}]}, id='run-101119e0-0e38-4486-b94c-476d76308844-0', tool_calls=[{'name': 'search', 'args': {'query': 'weather in sf'}, 'id': 'f4277a56-9f6e-4cf4-9971-1f519877555a', 'type': 'tool_call'}], usage_metadata={'input_tokens': 43, 'output_tokens': 15, 'total_tokens': 58}),\n",
       "  ToolMessage(content=\"It's 60 degrees and foggy.\", name='search', id='2f1cd64c-9fe1-4365-a5cc-c7a0286f5872', tool_call_id='f4277a56-9f6e-4cf4-9971-1f519877555a'),\n",
       "  AIMessage(content=\"It's 60 degrees and foggy.\", additional_kwargs={}, response_metadata={'prompt_feedback': {'block_reason': 0, 'safety_ratings': []}, 'finish_reason': 'STOP', 'safety_ratings': [{'category': 'HARM_CATEGORY_SEXUALLY_EXPLICIT', 'probability': 'NEGLIGIBLE', 'blocked': False}, {'category': 'HARM_CATEGORY_HATE_SPEECH', 'probability': 'NEGLIGIBLE', 'blocked': False}, {'category': 'HARM_CATEGORY_HARASSMENT', 'probability': 'NEGLIGIBLE', 'blocked': False}, {'category': 'HARM_CATEGORY_DANGEROUS_CONTENT', 'probability': 'NEGLIGIBLE', 'blocked': False}]}, id='run-37c081fd-5805-4301-8e29-bd21100cb81a-0', usage_metadata={'input_tokens': 82, 'output_tokens': 10, 'total_tokens': 92})]}"
      ]
     },
     "execution_count": 31,
     "metadata": {},
     "output_type": "execute_result"
    }
   ],
   "source": [
    "apps.invoke({'messages':['what is weather in sf ?']})"
   ]
  },
  {
   "cell_type": "code",
   "execution_count": 32,
   "metadata": {},
   "outputs": [
    {
     "name": "stdout",
     "output_type": "stream",
     "text": [
      "{'name': 'search', 'description': 'this is my custom tool function', 'parameters': {'type_': 6, 'description': 'this is my custom tool function', 'properties': {'query': {'type_': 1, 'format_': '', 'description': '', 'nullable': False, 'enum': [], 'max_items': '0', 'min_items': '0', 'properties': {}, 'required': []}}, 'required': ['query'], 'format_': '', 'nullable': False, 'enum': [], 'max_items': '0', 'min_items': '0'}}\n",
      "output from agent node\n",
      "________________\n",
      "{'messages': [AIMessage(content='', additional_kwargs={'function_call': {'name': 'search', 'arguments': '{\"query\": \"What is weather in sf ?\"}'}}, response_metadata={'prompt_feedback': {'block_reason': 0, 'safety_ratings': []}, 'finish_reason': 'STOP', 'safety_ratings': [{'category': 'HARM_CATEGORY_HATE_SPEECH', 'probability': 'NEGLIGIBLE', 'blocked': False}, {'category': 'HARM_CATEGORY_DANGEROUS_CONTENT', 'probability': 'NEGLIGIBLE', 'blocked': False}, {'category': 'HARM_CATEGORY_HARASSMENT', 'probability': 'NEGLIGIBLE', 'blocked': False}, {'category': 'HARM_CATEGORY_SEXUALLY_EXPLICIT', 'probability': 'NEGLIGIBLE', 'blocked': False}]}, id='run-1c534e38-66f4-41d3-ae5e-4cf08273df06-0', tool_calls=[{'name': 'search', 'args': {'query': 'What is weather in sf ?'}, 'id': 'd4aad412-cd41-44cf-bfba-be77b9ddebd8', 'type': 'tool_call'}], usage_metadata={'input_tokens': 43, 'output_tokens': 18, 'total_tokens': 61})]}\n",
      "\n",
      "\n",
      "output from tools node\n",
      "________________\n",
      "{'messages': [ToolMessage(content=\"It's 60 degrees and foggy.\", name='search', id='47fb0566-bf32-4c77-acfb-cd6829a9987c', tool_call_id='d4aad412-cd41-44cf-bfba-be77b9ddebd8')]}\n",
      "\n",
      "\n",
      "{'name': 'search', 'description': 'this is my custom tool function', 'parameters': {'type_': 6, 'description': 'this is my custom tool function', 'properties': {'query': {'type_': 1, 'format_': '', 'description': '', 'nullable': False, 'enum': [], 'max_items': '0', 'min_items': '0', 'properties': {}, 'required': []}}, 'required': ['query'], 'format_': '', 'nullable': False, 'enum': [], 'max_items': '0', 'min_items': '0'}}\n",
      "output from agent node\n",
      "________________\n",
      "{'messages': [AIMessage(content=\"It's 60 degrees and foggy.\", additional_kwargs={}, response_metadata={'prompt_feedback': {'block_reason': 0, 'safety_ratings': []}, 'finish_reason': 'STOP', 'safety_ratings': [{'category': 'HARM_CATEGORY_SEXUALLY_EXPLICIT', 'probability': 'NEGLIGIBLE', 'blocked': False}, {'category': 'HARM_CATEGORY_HATE_SPEECH', 'probability': 'NEGLIGIBLE', 'blocked': False}, {'category': 'HARM_CATEGORY_HARASSMENT', 'probability': 'NEGLIGIBLE', 'blocked': False}, {'category': 'HARM_CATEGORY_DANGEROUS_CONTENT', 'probability': 'NEGLIGIBLE', 'blocked': False}]}, id='run-8419d42d-d03a-4419-9189-c8d81268162d-0', usage_metadata={'input_tokens': 85, 'output_tokens': 10, 'total_tokens': 95})]}\n",
      "\n",
      "\n"
     ]
    }
   ],
   "source": [
    "for output in apps.stream({'messages':['what is weather in sf ?']}):\n",
    "    for key, value in output.items():\n",
    "        print(f'output from {key} node')\n",
    "        print('________________')\n",
    "        print(value)\n",
    "        print('\\n')"
   ]
  },
  {
   "cell_type": "markdown",
   "metadata": {},
   "source": [
    "## LangGraph bot with memory (chat history)\n"
   ]
  },
  {
   "cell_type": "code",
   "execution_count": 44,
   "metadata": {},
   "outputs": [],
   "source": [
    "from langgraph.checkpoint.memory import MemorySaver\n",
    "\n",
    "memory= MemorySaver()"
   ]
  },
  {
   "cell_type": "code",
   "execution_count": 45,
   "metadata": {},
   "outputs": [],
   "source": [
    "# DCE- Direct cyclic graph\n",
    "\n",
    "workflow= StateGraph(MessagesState)\n",
    "workflow.add_node('agent', call_model_with_tool)\n",
    "workflow.add_node('tools', tool_node)\n",
    "workflow.add_edge(START, 'agent')\n",
    "workflow.add_conditional_edges('agent', router_function, {'tools':'tools', END:END})\n",
    "workflow.add_edge('tools','agent')\n",
    "app2= workflow.compile(checkpointer=memory)"
   ]
  },
  {
   "cell_type": "code",
   "execution_count": 46,
   "metadata": {},
   "outputs": [
    {
     "data": {
      "image/jpeg": "[encoded data removed]",
      "text/plain": [
       "<IPython.core.display.Image object>"
      ]
     },
     "metadata": {},
     "output_type": "display_data"
    }
   ],
   "source": [
    "from IPython.display import display, Image\n",
    "\n",
    "try:\n",
    "    display(Image(app2.get_graph().draw_mermaid_png()))\n",
    "except Exception as e:\n",
    "    print(e)"
   ]
  },
  {
   "cell_type": "code",
   "execution_count": 47,
   "metadata": {},
   "outputs": [
    {
     "name": "stdout",
     "output_type": "stream",
     "text": [
      "================================\u001b[1m Human Message \u001b[0m=================================\n",
      "\n",
      "Hi there! My name is Mani\n",
      "{'name': 'search', 'description': 'this is my custom tool function', 'parameters': {'type_': 6, 'description': 'this is my custom tool function', 'properties': {'query': {'type_': 1, 'format_': '', 'description': '', 'nullable': False, 'enum': [], 'max_items': '0', 'min_items': '0', 'properties': {}, 'required': []}}, 'required': ['query'], 'format_': '', 'nullable': False, 'enum': [], 'max_items': '0', 'min_items': '0'}}\n",
      "==================================\u001b[1m Ai Message \u001b[0m==================================\n",
      "\n",
      "Hello Mani, how can I help you today?\n"
     ]
    }
   ],
   "source": [
    "## Adding memory config thred to save chat history\n",
    "config = {\"configurable\": {\"thread_id\": \"1\"}}\n",
    "\n",
    "\n",
    "events= app2.stream({'messages':[\"Hi there! My name is Mani\"]}, config, stream_mode='values')\n",
    "for event in events:    \n",
    "    event['messages'][-1].pretty_print()"
   ]
  },
  {
   "cell_type": "code",
   "execution_count": 48,
   "metadata": {},
   "outputs": [
    {
     "name": "stdout",
     "output_type": "stream",
     "text": [
      "================================\u001b[1m Human Message \u001b[0m=================================\n",
      "\n",
      "can you tell me what was my name?\n",
      "{'name': 'search', 'description': 'this is my custom tool function', 'parameters': {'type_': 6, 'description': 'this is my custom tool function', 'properties': {'query': {'type_': 1, 'format_': '', 'description': '', 'nullable': False, 'enum': [], 'max_items': '0', 'min_items': '0', 'properties': {}, 'required': []}}, 'required': ['query'], 'format_': '', 'nullable': False, 'enum': [], 'max_items': '0', 'min_items': '0'}}\n",
      "==================================\u001b[1m Ai Message \u001b[0m==================================\n",
      "\n",
      "I am sorry, I cannot fulfill this request. I do not have the functionality to access your name.\n"
     ]
    }
   ],
   "source": [
    "events= app2.stream({'messages':[\"can you tell me what was my name?\"]}, config, stream_mode='values')\n",
    "for event in events:\n",
    "    event['messages'][-1].pretty_print()"
   ]
  },
  {
   "cell_type": "code",
   "execution_count": 49,
   "metadata": {},
   "outputs": [
    {
     "data": {
      "text/plain": [
       "{'v': 1,\n",
       " 'ts': '2024-11-23T11:14:00.397204+00:00',\n",
       " 'id': '1efa98c0-a3ba-67d0-8004-b93e714ac4fd',\n",
       " 'channel_values': {'messages': [HumanMessage(content='Hi there! My name is Mani', additional_kwargs={}, response_metadata={}, id='09c1e5a1-ab36-48de-8e0b-ee8e728d25ae'),\n",
       "   AIMessage(content='Hello Mani, how can I help you today?', additional_kwargs={}, response_metadata={'prompt_feedback': {'block_reason': 0, 'safety_ratings': []}, 'finish_reason': 'STOP', 'safety_ratings': [{'category': 'HARM_CATEGORY_SEXUALLY_EXPLICIT', 'probability': 'NEGLIGIBLE', 'blocked': False}, {'category': 'HARM_CATEGORY_HATE_SPEECH', 'probability': 'NEGLIGIBLE', 'blocked': False}, {'category': 'HARM_CATEGORY_HARASSMENT', 'probability': 'NEGLIGIBLE', 'blocked': False}, {'category': 'HARM_CATEGORY_DANGEROUS_CONTENT', 'probability': 'NEGLIGIBLE', 'blocked': False}]}, id='run-2672dbfa-84af-45b4-b129-63cb935709ad-0', usage_metadata={'input_tokens': 44, 'output_tokens': 10, 'total_tokens': 54}),\n",
       "   HumanMessage(content='can you tell me what was my name?', additional_kwargs={}, response_metadata={}, id='8451a1be-8fff-42c3-80f3-eced11185b68'),\n",
       "   AIMessage(content='I am sorry, I cannot fulfill this request. I do not have the functionality to access your name.', additional_kwargs={}, response_metadata={'prompt_feedback': {'block_reason': 0, 'safety_ratings': []}, 'finish_reason': 'STOP', 'safety_ratings': [{'category': 'HARM_CATEGORY_SEXUALLY_EXPLICIT', 'probability': 'NEGLIGIBLE', 'blocked': False}, {'category': 'HARM_CATEGORY_HATE_SPEECH', 'probability': 'NEGLIGIBLE', 'blocked': False}, {'category': 'HARM_CATEGORY_HARASSMENT', 'probability': 'NEGLIGIBLE', 'blocked': False}, {'category': 'HARM_CATEGORY_DANGEROUS_CONTENT', 'probability': 'NEGLIGIBLE', 'blocked': False}]}, id='run-104aca6c-18ea-460f-801c-59f75529c3a7-0', usage_metadata={'input_tokens': 65, 'output_tokens': 21, 'total_tokens': 86})],\n",
       "  'agent': 'agent'},\n",
       " 'channel_versions': {'__start__': '00000000000000000000000000000005.0.14466486545920232',\n",
       "  'messages': '00000000000000000000000000000006.0.2929688573827668',\n",
       "  'start:agent': '00000000000000000000000000000006.0.9465688761326438',\n",
       "  'agent': '00000000000000000000000000000006.0.7482104391113977'},\n",
       " 'versions_seen': {'__input__': {},\n",
       "  '__start__': {'__start__': '00000000000000000000000000000004.0.7155704151874301'},\n",
       "  'agent': {'start:agent': '00000000000000000000000000000005.0.35416431428011186'}},\n",
       " 'pending_sends': []}"
      ]
     },
     "execution_count": 49,
     "metadata": {},
     "output_type": "execute_result"
    }
   ],
   "source": [
    "memory.get(config)"
   ]
  },
  {
   "cell_type": "code",
   "execution_count": null,
   "metadata": {},
   "outputs": [],
   "source": []
  }
 ],
 "metadata": {
  "kernelspec": {
   "display_name": "Python 3",
   "language": "python",
   "name": "python3"
  },
  "language_info": {
   "codemirror_mode": {
    "name": "ipython",
    "version": 3
   },
   "file_extension": ".py",
   "mimetype": "text/x-python",
   "name": "python",
   "nbconvert_exporter": "python",
   "pygments_lexer": "ipython3",
   "version": "3.10.15"
  }
 },
 "nbformat": 4,
 "nbformat_minor": 2
}

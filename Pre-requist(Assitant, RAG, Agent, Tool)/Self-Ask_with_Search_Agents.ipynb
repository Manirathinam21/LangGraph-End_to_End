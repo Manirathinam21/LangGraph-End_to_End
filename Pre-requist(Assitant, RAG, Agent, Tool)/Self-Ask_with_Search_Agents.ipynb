{
 "cells": [
  {
   "cell_type": "markdown",
   "metadata": {},
   "source": [
    "### Self-Ask with Search Agents\n",
    "\n",
    "**Definition:**\n",
    "\n",
    "- This approach allows the AI to ask itself follwo-up questions when it doesn't immediately know the answer. it performs a recursive questioning process to breakdown complete queries into smaller, more manageable ones.\n",
    "- Once the AI generates these follow-up questions, it performs an external search(e.g. through google or an internal database) to gather the necessary information before formulating the response.\n",
    "\n",
    "**How it works:**\n",
    "\n",
    "- Step 1: Receive a complex questions\n",
    "- Step 2: The agents identifies sub-questions or follow-up questions\n",
    "- Step 3: It promotes a search or fetches answers to these questions from external resources (like a web search) \n",
    "- Step 4: The answers are aggregated to provide a complete response.\n",
    "\n",
    "**Key Points:**\n",
    "\n",
    "- Emphasizes question decomposition\n",
    "- Relies in external search for sub-questions.\n",
    "- Useful for answering open-ended or broad questions when the answer is not immediately available.\n",
    "\n",
    "**Examples:**\n",
    "\n",
    "- original question:\"How many moons does jupiter have?\"\n",
    "- sub-question: \"what is jupiter?\"(search)\n",
    "- sub-question: \"what is moons?\"(search)\n",
    "- Finally, it retrieves the answer:\"Jupiter has 79 moons\""
   ]
  },
  {
   "cell_type": "code",
   "execution_count": 1,
   "metadata": {},
   "outputs": [
    {
     "data": {
      "text/plain": [
       "True"
      ]
     },
     "execution_count": 1,
     "metadata": {},
     "output_type": "execute_result"
    }
   ],
   "source": [
    "import os\n",
    "from dotenv import load_dotenv\n",
    "load_dotenv()"
   ]
  },
  {
   "cell_type": "code",
   "execution_count": 2,
   "metadata": {},
   "outputs": [],
   "source": [
    "GOOGLE_API_KEY=os.getenv(\"GOOGLE_API_KEY\")\n",
    "TAVILY_API_KEY=os.getenv(\"TAVILY_API_KEY\")\n",
    "LANGCHAIN_API_KEY=os.getenv(\"LANGCHAIN_API_KEY\")\n",
    "LANGCHAIN_PROJECT=os.getenv(\"LANGCHAIN_PROJECT\")\n",
    "SERPER_API_KEY=os.getenv(\"SERPER_API_KEY\")\n",
    "\n",
    "os.environ[\"GOOGLE_API_KEY\"] = GOOGLE_API_KEY\n",
    "os.environ[\"TAVILY_API_KEY\"] = TAVILY_API_KEY\n",
    "os.environ[\"SERPER_API_KEY\"]=SERPER_API_KEY\n",
    "os.environ[\"LANGCHAIN_API_KEY\"] = LANGCHAIN_API_KEY\n",
    "os.environ[\"LANGCHAIN_TRACING_V2\"] = \"true\"\n",
    "os.environ[\"LANGCHAIN_ENDPOINT\"] = \"https://api.smith.langchain.com\"\n",
    "os.environ[\"LANGCHAIN_PROJECT\"]=LANGCHAIN_PROJECT"
   ]
  },
  {
   "cell_type": "code",
   "execution_count": 10,
   "metadata": {},
   "outputs": [],
   "source": [
    "## Loading the model and Embeddings\n",
    "\n",
    "from langchain_google_genai import ChatGoogleGenerativeAI\n",
    "from langchain_google_genai import GoogleGenerativeAIEmbeddings\n",
    "\n",
    "embeddings= GoogleGenerativeAIEmbeddings(model='models/embedding-001')\n",
    "\n",
    "llm= ChatGoogleGenerativeAI(model='gemini-1.0-pro')"
   ]
  },
  {
   "cell_type": "code",
   "execution_count": 11,
   "metadata": {},
   "outputs": [],
   "source": [
    "from langchain.tools.tavily_search import TavilySearchResults\n",
    "\n",
    "search= TavilySearchResults(max_results=1, name=\"Intermediate Answer\")\n",
    "\n",
    "tools= [search]"
   ]
  },
  {
   "cell_type": "code",
   "execution_count": 12,
   "metadata": {},
   "outputs": [
    {
     "name": "stdout",
     "output_type": "stream",
     "text": [
      "Question: Who lived longer, Muhammad Ali or Alan Turing?\n",
      "Are follow up questions needed here: Yes.\n",
      "Follow up: How old was Muhammad Ali when he died?\n",
      "Intermediate answer: Muhammad Ali was 74 years old when he died.\n",
      "Follow up: How old was Alan Turing when he died?\n",
      "Intermediate answer: Alan Turing was 41 years old when he died.\n",
      "So the final answer is: Muhammad Ali\n",
      "\n",
      "Question: When was the founder of craigslist born?\n",
      "Are follow up questions needed here: Yes.\n",
      "Follow up: Who was the founder of craigslist?\n",
      "Intermediate answer: Craigslist was founded by Craig Newmark.\n",
      "Follow up: When was Craig Newmark born?\n",
      "Intermediate answer: Craig Newmark was born on December 6, 1952.\n",
      "So the final answer is: December 6, 1952\n",
      "\n",
      "Question: Who was the maternal grandfather of George Washington?\n",
      "Are follow up questions needed here: Yes.\n",
      "Follow up: Who was the mother of George Washington?\n",
      "Intermediate answer: The mother of George Washington was Mary Ball Washington.\n",
      "Follow up: Who was the father of Mary Ball Washington?\n",
      "Intermediate answer: The father of Mary Ball Washington was Joseph Ball.\n",
      "So the final answer is: Joseph Ball\n",
      "\n",
      "Question: Are both the directors of Jaws and Casino Royale from the same country?\n",
      "Are follow up questions needed here: Yes.\n",
      "Follow up: Who is the director of Jaws?\n",
      "Intermediate answer: The director of Jaws is Steven Spielberg.\n",
      "Follow up: Where is Steven Spielberg from?\n",
      "Intermediate answer: The United States.\n",
      "Follow up: Who is the director of Casino Royale?\n",
      "Intermediate answer: The director of Casino Royale is Martin Campbell.\n",
      "Follow up: Where is Martin Campbell from?\n",
      "Intermediate answer: New Zealand.\n",
      "So the final answer is: No\n",
      "\n",
      "Question: {input}\n",
      "Are followup questions needed here:{agent_scratchpad}\n"
     ]
    }
   ],
   "source": [
    "from langchain import hub\n",
    "\n",
    "prompt= hub.pull(\"hwchase17/self-ask-with-search\")\n",
    "\n",
    "print(prompt.template)"
   ]
  },
  {
   "cell_type": "code",
   "execution_count": 14,
   "metadata": {},
   "outputs": [
    {
     "name": "stdout",
     "output_type": "stream",
     "text": [
      "\n",
      "\n",
      "\u001b[1m> Entering new AgentExecutor chain...\u001b[0m\n",
      "\u001b[32;1m\u001b[1;3mYes.\n",
      "Follow up: How many languages are spoken in the world?\u001b[0m\u001b[36;1m\u001b[1;3m[{'url': 'https://www.nationsonline.org/oneworld/languages.htm', 'content': 'How many languages are there in the world? There are about 7000 spoken languages in the world and about 300 writing systems. Which language is the number 1 worldwide? According to various sources, English is the most widely spoken language in the world, with around 1.35 billion speakers (first and second language (L1 and L2)).'}]\u001b[0m\u001b[32;1m\u001b[1;3mCould not parse output: Follow up: Which country has the highest number of languages?\n",
      "\u001b[0mInvalid or incomplete response\u001b[32;1m\u001b[1;3mFollow up: How many languages are spoken in Papua New Guinea?\u001b[0m\u001b[36;1m\u001b[1;3m[{'url': 'https://en.wikipedia.org/wiki/Languages_of_Papua_New_Guinea', 'content': 'Papua New Guinea, a sovereign state in Oceania, is the most linguistically diverse country in the world. [5] According to Ethnologue, there are 840 living languages spoken in the country. [6] In 2006, Papua New Guinea Prime Minister Sir Michael Somare stated that \"Papua New Guinea has 832 living languages (languages, not dialects).\" [7] [8]Most of these are classified as indigenous Papuan'}]\u001b[0m\u001b[32;1m\u001b[1;3mSo the final answer is: Papua New Guinea, 840\u001b[0m\n",
      "\n",
      "\u001b[1m> Finished chain.\u001b[0m\n",
      "{'input': 'which country in the world have more number of languages and how many languages?', 'output': 'Papua New Guinea, 840'}\n"
     ]
    }
   ],
   "source": [
    "from langchain.agents import create_self_ask_with_search_agent\n",
    "from langchain.agents import AgentExecutor\n",
    "\n",
    "agent= create_self_ask_with_search_agent(llm, tools, prompt)\n",
    "\n",
    "agent_executor= AgentExecutor(agent=agent, tools=tools, verbose=True, handle_parsing_errors=True)\n",
    "\n",
    "response= agent_executor.invoke({'input':'which country in the world have more number of languages and how many languages?'})\n",
    "print(response)"
   ]
  },
  {
   "cell_type": "code",
   "execution_count": 16,
   "metadata": {},
   "outputs": [
    {
     "name": "stdout",
     "output_type": "stream",
     "text": [
      "\n",
      "\n",
      "\u001b[1m> Entering new AgentExecutor chain...\u001b[0m\n",
      "\u001b[32;1m\u001b[1;3mYes\n",
      "Follow up: When did India get freedom?\u001b[0m\u001b[36;1m\u001b[1;3m[{'url': 'https://www.britannica.com/topic/Indian-Independence-Movement', 'content': 'Ask the Chatbot Games & Quizzes History & Society Science & Tech Biographies Animals & Nature Geography & Travel Arts & Culture Money Videos On January 26, 1930, the Indian National Congress publicly declared its Purna Swaraj (“Complete Self-Rule”) resolution, decisively rejecting the idea of dominion status within the British Empire and establishing full sovereignty as the goal of the independence movement. Sarojini Naidu was a distinguished figure in Indian politics and literature, sometimes known as the “Nightingale of India.” She played a leading role in the Salt March and later became president (1925–26) of the Indian National Congress, becoming the first Indian woman to do so.'}]\u001b[0m\u001b[32;1m\u001b[1;3mIntermediate answer: 15th August 1947\n",
      "Follow up: who was tamilnadu cheif minister then?\u001b[0m\u001b[36;1m\u001b[1;3m[{'url': 'https://www.thecurrentindia.com/govt/chief-ministers-of-tamil-nadu/', 'content': 'The Current Chief Minister Of Tamilnadu is MK Stalin ; Tamil Nadu has had only two Deputy Chief Ministers till date. The first Deputy Chief Minister of Tamil Nadu was M. K Stalin, and was appointed in 2011; Read: The List Of RBI Governors - Reserve Bank Of India Governors Since 1935. List Of Chief Ministers Of Tamil Nadu From 1969 To Present'}]\u001b[0m\u001b[32;1m\u001b[1;3mIntermediate answer: Omandur Ramaswamy Reddiar\n",
      "So the final answer is: Omandur Ramaswamy Reddiar\u001b[0m\n",
      "\n",
      "\u001b[1m> Finished chain.\u001b[0m\n",
      "{'input': 'who is tamilnadu cheif minister when India got freedom ?', 'output': 'Omandur Ramaswamy Reddiar'}\n"
     ]
    }
   ],
   "source": [
    "response= agent_executor.invoke({'input':'who is tamilnadu cheif minister when India got freedom ?'})\n",
    "print(response)"
   ]
  },
  {
   "cell_type": "code",
   "execution_count": null,
   "metadata": {},
   "outputs": [],
   "source": []
  }
 ],
 "metadata": {
  "kernelspec": {
   "display_name": "Python 3",
   "language": "python",
   "name": "python3"
  },
  "language_info": {
   "codemirror_mode": {
    "name": "ipython",
    "version": 3
   },
   "file_extension": ".py",
   "mimetype": "text/x-python",
   "name": "python",
   "nbconvert_exporter": "python",
   "pygments_lexer": "ipython3",
   "version": "3.10.15"
  }
 },
 "nbformat": 4,
 "nbformat_minor": 2
}
